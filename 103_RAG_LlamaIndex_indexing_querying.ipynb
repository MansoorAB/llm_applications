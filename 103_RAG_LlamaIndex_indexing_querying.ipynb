{
  "cells": [
    {
      "cell_type": "code",
      "source": [
        "!nvidia-smi"
      ],
      "metadata": {
        "colab": {
          "base_uri": "https://localhost:8080/"
        },
        "id": "bJvloVXk3Fjc",
        "outputId": "98e6f646-bc56-4931-887b-29f53cdf1b01"
      },
      "execution_count": 1,
      "outputs": [
        {
          "output_type": "stream",
          "name": "stdout",
          "text": [
            "Sat Apr  6 05:41:34 2024       \n",
            "+---------------------------------------------------------------------------------------+\n",
            "| NVIDIA-SMI 535.104.05             Driver Version: 535.104.05   CUDA Version: 12.2     |\n",
            "|-----------------------------------------+----------------------+----------------------+\n",
            "| GPU  Name                 Persistence-M | Bus-Id        Disp.A | Volatile Uncorr. ECC |\n",
            "| Fan  Temp   Perf          Pwr:Usage/Cap |         Memory-Usage | GPU-Util  Compute M. |\n",
            "|                                         |                      |               MIG M. |\n",
            "|=========================================+======================+======================|\n",
            "|   0  NVIDIA A100-SXM4-40GB          Off | 00000000:00:04.0 Off |                    0 |\n",
            "| N/A   31C    P0              47W / 400W |      2MiB / 40960MiB |      0%      Default |\n",
            "|                                         |                      |             Disabled |\n",
            "+-----------------------------------------+----------------------+----------------------+\n",
            "                                                                                         \n",
            "+---------------------------------------------------------------------------------------+\n",
            "| Processes:                                                                            |\n",
            "|  GPU   GI   CI        PID   Type   Process name                            GPU Memory |\n",
            "|        ID   ID                                                             Usage      |\n",
            "|=======================================================================================|\n",
            "|  No running processes found                                                           |\n",
            "+---------------------------------------------------------------------------------------+\n"
          ]
        }
      ]
    },
    {
      "cell_type": "code",
      "execution_count": 1,
      "metadata": {
        "id": "M08PG4372Cir"
      },
      "outputs": [],
      "source": [
        "## Retrieval augmented generation\n",
        "\n",
        "# import os\n",
        "# from dotenv import load_dotenv\n",
        "# load_dotenv()\n"
      ]
    },
    {
      "cell_type": "code",
      "source": [
        "from google.colab import drive\n",
        "drive.mount('/content/drive')"
      ],
      "metadata": {
        "colab": {
          "base_uri": "https://localhost:8080/"
        },
        "id": "IE5KwL9k27Lb",
        "outputId": "729a7689-fb93-496b-9900-b1e978bda514"
      },
      "execution_count": 2,
      "outputs": [
        {
          "output_type": "stream",
          "name": "stdout",
          "text": [
            "Mounted at /content/drive\n"
          ]
        }
      ]
    },
    {
      "cell_type": "code",
      "source": [
        "!cp -r drive/MyDrive/llms/data ."
      ],
      "metadata": {
        "id": "cRIaxByH3RsP"
      },
      "execution_count": 3,
      "outputs": []
    },
    {
      "cell_type": "code",
      "source": [
        "!ls data"
      ],
      "metadata": {
        "colab": {
          "base_uri": "https://localhost:8080/"
        },
        "id": "Zq0bccPj3eGR",
        "outputId": "3c29a8aa-f1d9-4352-a91d-4dac6b248de6"
      },
      "execution_count": 4,
      "outputs": [
        {
          "output_type": "stream",
          "name": "stdout",
          "text": [
            "attention.pdf  yolo.pdf\n"
          ]
        }
      ]
    },
    {
      "cell_type": "code",
      "source": [
        "import os\n",
        "os.environ['OPENAI_API_KEY'] = 'the key of openai - confidential'"
      ],
      "metadata": {
        "id": "niOlYaS53ngT"
      },
      "execution_count": 41,
      "outputs": []
    },
    {
      "cell_type": "code",
      "source": [
        "!pip install llama-index openai pypdf"
      ],
      "metadata": {
        "colab": {
          "base_uri": "https://localhost:8080/"
        },
        "id": "c-y7KG7Y3wxm",
        "outputId": "2fef254b-6bee-4995-f19e-be206352560b"
      },
      "execution_count": 6,
      "outputs": [
        {
          "output_type": "stream",
          "name": "stdout",
          "text": [
            "Collecting llama-index\n",
            "  Downloading llama_index-0.10.27-py3-none-any.whl (6.9 kB)\n",
            "Collecting openai\n",
            "  Downloading openai-1.16.2-py3-none-any.whl (267 kB)\n",
            "\u001b[2K     \u001b[90m━━━━━━━━━━━━━━━━━━━━━━━━━━━━━━━━━━━━━━━━\u001b[0m \u001b[32m267.1/267.1 kB\u001b[0m \u001b[31m7.1 MB/s\u001b[0m eta \u001b[36m0:00:00\u001b[0m\n",
            "\u001b[?25hCollecting pypdf\n",
            "  Downloading pypdf-4.1.0-py3-none-any.whl (286 kB)\n",
            "\u001b[2K     \u001b[90m━━━━━━━━━━━━━━━━━━━━━━━━━━━━━━━━━━━━━━━━\u001b[0m \u001b[32m286.1/286.1 kB\u001b[0m \u001b[31m35.9 MB/s\u001b[0m eta \u001b[36m0:00:00\u001b[0m\n",
            "\u001b[?25hCollecting llama-index-agent-openai<0.3.0,>=0.1.4 (from llama-index)\n",
            "  Downloading llama_index_agent_openai-0.2.2-py3-none-any.whl (12 kB)\n",
            "Collecting llama-index-cli<0.2.0,>=0.1.2 (from llama-index)\n",
            "  Downloading llama_index_cli-0.1.11-py3-none-any.whl (26 kB)\n",
            "Collecting llama-index-core<0.11.0,>=0.10.27 (from llama-index)\n",
            "  Downloading llama_index_core-0.10.27-py3-none-any.whl (15.4 MB)\n",
            "\u001b[2K     \u001b[90m━━━━━━━━━━━━━━━━━━━━━━━━━━━━━━━━━━━━━━━━\u001b[0m \u001b[32m15.4/15.4 MB\u001b[0m \u001b[31m83.2 MB/s\u001b[0m eta \u001b[36m0:00:00\u001b[0m\n",
            "\u001b[?25hCollecting llama-index-embeddings-openai<0.2.0,>=0.1.5 (from llama-index)\n",
            "  Downloading llama_index_embeddings_openai-0.1.7-py3-none-any.whl (6.0 kB)\n",
            "Collecting llama-index-indices-managed-llama-cloud<0.2.0,>=0.1.2 (from llama-index)\n",
            "  Downloading llama_index_indices_managed_llama_cloud-0.1.5-py3-none-any.whl (6.7 kB)\n",
            "Collecting llama-index-legacy<0.10.0,>=0.9.48 (from llama-index)\n",
            "  Downloading llama_index_legacy-0.9.48-py3-none-any.whl (2.0 MB)\n",
            "\u001b[2K     \u001b[90m━━━━━━━━━━━━━━━━━━━━━━━━━━━━━━━━━━━━━━━━\u001b[0m \u001b[32m2.0/2.0 MB\u001b[0m \u001b[31m87.9 MB/s\u001b[0m eta \u001b[36m0:00:00\u001b[0m\n",
            "\u001b[?25hCollecting llama-index-llms-openai<0.2.0,>=0.1.13 (from llama-index)\n",
            "  Downloading llama_index_llms_openai-0.1.14-py3-none-any.whl (10 kB)\n",
            "Collecting llama-index-multi-modal-llms-openai<0.2.0,>=0.1.3 (from llama-index)\n",
            "  Downloading llama_index_multi_modal_llms_openai-0.1.4-py3-none-any.whl (5.8 kB)\n",
            "Collecting llama-index-program-openai<0.2.0,>=0.1.3 (from llama-index)\n",
            "  Downloading llama_index_program_openai-0.1.5-py3-none-any.whl (4.1 kB)\n",
            "Collecting llama-index-question-gen-openai<0.2.0,>=0.1.2 (from llama-index)\n",
            "  Downloading llama_index_question_gen_openai-0.1.3-py3-none-any.whl (2.9 kB)\n",
            "Collecting llama-index-readers-file<0.2.0,>=0.1.4 (from llama-index)\n",
            "  Downloading llama_index_readers_file-0.1.13-py3-none-any.whl (36 kB)\n",
            "Collecting llama-index-readers-llama-parse<0.2.0,>=0.1.2 (from llama-index)\n",
            "  Downloading llama_index_readers_llama_parse-0.1.4-py3-none-any.whl (2.5 kB)\n",
            "Requirement already satisfied: anyio<5,>=3.5.0 in /usr/local/lib/python3.10/dist-packages (from openai) (3.7.1)\n",
            "Requirement already satisfied: distro<2,>=1.7.0 in /usr/lib/python3/dist-packages (from openai) (1.7.0)\n",
            "Collecting httpx<1,>=0.23.0 (from openai)\n",
            "  Downloading httpx-0.27.0-py3-none-any.whl (75 kB)\n",
            "\u001b[2K     \u001b[90m━━━━━━━━━━━━━━━━━━━━━━━━━━━━━━━━━━━━━━━━\u001b[0m \u001b[32m75.6/75.6 kB\u001b[0m \u001b[31m12.5 MB/s\u001b[0m eta \u001b[36m0:00:00\u001b[0m\n",
            "\u001b[?25hRequirement already satisfied: pydantic<3,>=1.9.0 in /usr/local/lib/python3.10/dist-packages (from openai) (2.6.4)\n",
            "Requirement already satisfied: sniffio in /usr/local/lib/python3.10/dist-packages (from openai) (1.3.1)\n",
            "Requirement already satisfied: tqdm>4 in /usr/local/lib/python3.10/dist-packages (from openai) (4.66.2)\n",
            "Requirement already satisfied: typing-extensions<5,>=4.7 in /usr/local/lib/python3.10/dist-packages (from openai) (4.10.0)\n",
            "Requirement already satisfied: idna>=2.8 in /usr/local/lib/python3.10/dist-packages (from anyio<5,>=3.5.0->openai) (3.6)\n",
            "Requirement already satisfied: exceptiongroup in /usr/local/lib/python3.10/dist-packages (from anyio<5,>=3.5.0->openai) (1.2.0)\n",
            "Requirement already satisfied: certifi in /usr/local/lib/python3.10/dist-packages (from httpx<1,>=0.23.0->openai) (2024.2.2)\n",
            "Collecting httpcore==1.* (from httpx<1,>=0.23.0->openai)\n",
            "  Downloading httpcore-1.0.5-py3-none-any.whl (77 kB)\n",
            "\u001b[2K     \u001b[90m━━━━━━━━━━━━━━━━━━━━━━━━━━━━━━━━━━━━━━━━\u001b[0m \u001b[32m77.9/77.9 kB\u001b[0m \u001b[31m13.0 MB/s\u001b[0m eta \u001b[36m0:00:00\u001b[0m\n",
            "\u001b[?25hCollecting h11<0.15,>=0.13 (from httpcore==1.*->httpx<1,>=0.23.0->openai)\n",
            "  Downloading h11-0.14.0-py3-none-any.whl (58 kB)\n",
            "\u001b[2K     \u001b[90m━━━━━━━━━━━━━━━━━━━━━━━━━━━━━━━━━━━━━━━━\u001b[0m \u001b[32m58.3/58.3 kB\u001b[0m \u001b[31m8.8 MB/s\u001b[0m eta \u001b[36m0:00:00\u001b[0m\n",
            "\u001b[?25hRequirement already satisfied: PyYAML>=6.0.1 in /usr/local/lib/python3.10/dist-packages (from llama-index-core<0.11.0,>=0.10.27->llama-index) (6.0.1)\n",
            "Requirement already satisfied: SQLAlchemy[asyncio]>=1.4.49 in /usr/local/lib/python3.10/dist-packages (from llama-index-core<0.11.0,>=0.10.27->llama-index) (2.0.29)\n",
            "Requirement already satisfied: aiohttp<4.0.0,>=3.8.6 in /usr/local/lib/python3.10/dist-packages (from llama-index-core<0.11.0,>=0.10.27->llama-index) (3.9.3)\n",
            "Collecting dataclasses-json (from llama-index-core<0.11.0,>=0.10.27->llama-index)\n",
            "  Downloading dataclasses_json-0.6.4-py3-none-any.whl (28 kB)\n",
            "Collecting deprecated>=1.2.9.3 (from llama-index-core<0.11.0,>=0.10.27->llama-index)\n",
            "  Downloading Deprecated-1.2.14-py2.py3-none-any.whl (9.6 kB)\n",
            "Collecting dirtyjson<2.0.0,>=1.0.8 (from llama-index-core<0.11.0,>=0.10.27->llama-index)\n",
            "  Downloading dirtyjson-1.0.8-py3-none-any.whl (25 kB)\n",
            "Requirement already satisfied: fsspec>=2023.5.0 in /usr/local/lib/python3.10/dist-packages (from llama-index-core<0.11.0,>=0.10.27->llama-index) (2023.6.0)\n",
            "Collecting llamaindex-py-client<0.2.0,>=0.1.16 (from llama-index-core<0.11.0,>=0.10.27->llama-index)\n",
            "  Downloading llamaindex_py_client-0.1.16-py3-none-any.whl (135 kB)\n",
            "\u001b[2K     \u001b[90m━━━━━━━━━━━━━━━━━━━━━━━━━━━━━━━━━━━━━━━━\u001b[0m \u001b[32m136.0/136.0 kB\u001b[0m \u001b[31m20.3 MB/s\u001b[0m eta \u001b[36m0:00:00\u001b[0m\n",
            "\u001b[?25hRequirement already satisfied: nest-asyncio<2.0.0,>=1.5.8 in /usr/local/lib/python3.10/dist-packages (from llama-index-core<0.11.0,>=0.10.27->llama-index) (1.6.0)\n",
            "Requirement already satisfied: networkx>=3.0 in /usr/local/lib/python3.10/dist-packages (from llama-index-core<0.11.0,>=0.10.27->llama-index) (3.2.1)\n",
            "Requirement already satisfied: nltk<4.0.0,>=3.8.1 in /usr/local/lib/python3.10/dist-packages (from llama-index-core<0.11.0,>=0.10.27->llama-index) (3.8.1)\n",
            "Requirement already satisfied: numpy in /usr/local/lib/python3.10/dist-packages (from llama-index-core<0.11.0,>=0.10.27->llama-index) (1.25.2)\n",
            "Requirement already satisfied: pandas in /usr/local/lib/python3.10/dist-packages (from llama-index-core<0.11.0,>=0.10.27->llama-index) (2.0.3)\n",
            "Requirement already satisfied: pillow>=9.0.0 in /usr/local/lib/python3.10/dist-packages (from llama-index-core<0.11.0,>=0.10.27->llama-index) (9.4.0)\n",
            "Requirement already satisfied: requests>=2.31.0 in /usr/local/lib/python3.10/dist-packages (from llama-index-core<0.11.0,>=0.10.27->llama-index) (2.31.0)\n",
            "Requirement already satisfied: tenacity<9.0.0,>=8.2.0 in /usr/local/lib/python3.10/dist-packages (from llama-index-core<0.11.0,>=0.10.27->llama-index) (8.2.3)\n",
            "Collecting tiktoken>=0.3.3 (from llama-index-core<0.11.0,>=0.10.27->llama-index)\n",
            "  Downloading tiktoken-0.6.0-cp310-cp310-manylinux_2_17_x86_64.manylinux2014_x86_64.whl (1.8 MB)\n",
            "\u001b[2K     \u001b[90m━━━━━━━━━━━━━━━━━━━━━━━━━━━━━━━━━━━━━━━━\u001b[0m \u001b[32m1.8/1.8 MB\u001b[0m \u001b[31m92.6 MB/s\u001b[0m eta \u001b[36m0:00:00\u001b[0m\n",
            "\u001b[?25hCollecting typing-inspect>=0.8.0 (from llama-index-core<0.11.0,>=0.10.27->llama-index)\n",
            "  Downloading typing_inspect-0.9.0-py3-none-any.whl (8.8 kB)\n",
            "Requirement already satisfied: wrapt in /usr/local/lib/python3.10/dist-packages (from llama-index-core<0.11.0,>=0.10.27->llama-index) (1.14.1)\n",
            "Requirement already satisfied: beautifulsoup4<5.0.0,>=4.12.3 in /usr/local/lib/python3.10/dist-packages (from llama-index-readers-file<0.2.0,>=0.1.4->llama-index) (4.12.3)\n",
            "Collecting pymupdf<2.0.0,>=1.23.21 (from llama-index-readers-file<0.2.0,>=0.1.4->llama-index)\n",
            "  Downloading PyMuPDF-1.24.1-cp310-none-manylinux2014_x86_64.whl (3.9 MB)\n",
            "\u001b[2K     \u001b[90m━━━━━━━━━━━━━━━━━━━━━━━━━━━━━━━━━━━━━━━━\u001b[0m \u001b[32m3.9/3.9 MB\u001b[0m \u001b[31m104.7 MB/s\u001b[0m eta \u001b[36m0:00:00\u001b[0m\n",
            "\u001b[?25hCollecting striprtf<0.0.27,>=0.0.26 (from llama-index-readers-file<0.2.0,>=0.1.4->llama-index)\n",
            "  Downloading striprtf-0.0.26-py3-none-any.whl (6.9 kB)\n",
            "Collecting llama-parse<0.5.0,>=0.4.0 (from llama-index-readers-llama-parse<0.2.0,>=0.1.2->llama-index)\n",
            "  Downloading llama_parse-0.4.0-py3-none-any.whl (7.0 kB)\n",
            "Requirement already satisfied: annotated-types>=0.4.0 in /usr/local/lib/python3.10/dist-packages (from pydantic<3,>=1.9.0->openai) (0.6.0)\n",
            "Requirement already satisfied: pydantic-core==2.16.3 in /usr/local/lib/python3.10/dist-packages (from pydantic<3,>=1.9.0->openai) (2.16.3)\n",
            "Requirement already satisfied: aiosignal>=1.1.2 in /usr/local/lib/python3.10/dist-packages (from aiohttp<4.0.0,>=3.8.6->llama-index-core<0.11.0,>=0.10.27->llama-index) (1.3.1)\n",
            "Requirement already satisfied: attrs>=17.3.0 in /usr/local/lib/python3.10/dist-packages (from aiohttp<4.0.0,>=3.8.6->llama-index-core<0.11.0,>=0.10.27->llama-index) (23.2.0)\n",
            "Requirement already satisfied: frozenlist>=1.1.1 in /usr/local/lib/python3.10/dist-packages (from aiohttp<4.0.0,>=3.8.6->llama-index-core<0.11.0,>=0.10.27->llama-index) (1.4.1)\n",
            "Requirement already satisfied: multidict<7.0,>=4.5 in /usr/local/lib/python3.10/dist-packages (from aiohttp<4.0.0,>=3.8.6->llama-index-core<0.11.0,>=0.10.27->llama-index) (6.0.5)\n",
            "Requirement already satisfied: yarl<2.0,>=1.0 in /usr/local/lib/python3.10/dist-packages (from aiohttp<4.0.0,>=3.8.6->llama-index-core<0.11.0,>=0.10.27->llama-index) (1.9.4)\n",
            "Requirement already satisfied: async-timeout<5.0,>=4.0 in /usr/local/lib/python3.10/dist-packages (from aiohttp<4.0.0,>=3.8.6->llama-index-core<0.11.0,>=0.10.27->llama-index) (4.0.3)\n",
            "Requirement already satisfied: soupsieve>1.2 in /usr/local/lib/python3.10/dist-packages (from beautifulsoup4<5.0.0,>=4.12.3->llama-index-readers-file<0.2.0,>=0.1.4->llama-index) (2.5)\n",
            "Requirement already satisfied: click in /usr/local/lib/python3.10/dist-packages (from nltk<4.0.0,>=3.8.1->llama-index-core<0.11.0,>=0.10.27->llama-index) (8.1.7)\n",
            "Requirement already satisfied: joblib in /usr/local/lib/python3.10/dist-packages (from nltk<4.0.0,>=3.8.1->llama-index-core<0.11.0,>=0.10.27->llama-index) (1.3.2)\n",
            "Requirement already satisfied: regex>=2021.8.3 in /usr/local/lib/python3.10/dist-packages (from nltk<4.0.0,>=3.8.1->llama-index-core<0.11.0,>=0.10.27->llama-index) (2023.12.25)\n",
            "Collecting PyMuPDFb==1.24.1 (from pymupdf<2.0.0,>=1.23.21->llama-index-readers-file<0.2.0,>=0.1.4->llama-index)\n",
            "  Downloading PyMuPDFb-1.24.1-py3-none-manylinux2014_x86_64.manylinux_2_17_x86_64.whl (30.8 MB)\n",
            "\u001b[2K     \u001b[90m━━━━━━━━━━━━━━━━━━━━━━━━━━━━━━━━━━━━━━━━\u001b[0m \u001b[32m30.8/30.8 MB\u001b[0m \u001b[31m55.4 MB/s\u001b[0m eta \u001b[36m0:00:00\u001b[0m\n",
            "\u001b[?25hRequirement already satisfied: charset-normalizer<4,>=2 in /usr/local/lib/python3.10/dist-packages (from requests>=2.31.0->llama-index-core<0.11.0,>=0.10.27->llama-index) (3.3.2)\n",
            "Requirement already satisfied: urllib3<3,>=1.21.1 in /usr/local/lib/python3.10/dist-packages (from requests>=2.31.0->llama-index-core<0.11.0,>=0.10.27->llama-index) (2.0.7)\n",
            "Requirement already satisfied: greenlet!=0.4.17 in /usr/local/lib/python3.10/dist-packages (from SQLAlchemy[asyncio]>=1.4.49->llama-index-core<0.11.0,>=0.10.27->llama-index) (3.0.3)\n",
            "Collecting mypy-extensions>=0.3.0 (from typing-inspect>=0.8.0->llama-index-core<0.11.0,>=0.10.27->llama-index)\n",
            "  Downloading mypy_extensions-1.0.0-py3-none-any.whl (4.7 kB)\n",
            "Collecting marshmallow<4.0.0,>=3.18.0 (from dataclasses-json->llama-index-core<0.11.0,>=0.10.27->llama-index)\n",
            "  Downloading marshmallow-3.21.1-py3-none-any.whl (49 kB)\n",
            "\u001b[2K     \u001b[90m━━━━━━━━━━━━━━━━━━━━━━━━━━━━━━━━━━━━━━━━\u001b[0m \u001b[32m49.4/49.4 kB\u001b[0m \u001b[31m7.3 MB/s\u001b[0m eta \u001b[36m0:00:00\u001b[0m\n",
            "\u001b[?25hRequirement already satisfied: python-dateutil>=2.8.2 in /usr/local/lib/python3.10/dist-packages (from pandas->llama-index-core<0.11.0,>=0.10.27->llama-index) (2.8.2)\n",
            "Requirement already satisfied: pytz>=2020.1 in /usr/local/lib/python3.10/dist-packages (from pandas->llama-index-core<0.11.0,>=0.10.27->llama-index) (2023.4)\n",
            "Requirement already satisfied: tzdata>=2022.1 in /usr/local/lib/python3.10/dist-packages (from pandas->llama-index-core<0.11.0,>=0.10.27->llama-index) (2024.1)\n",
            "Requirement already satisfied: packaging>=17.0 in /usr/local/lib/python3.10/dist-packages (from marshmallow<4.0.0,>=3.18.0->dataclasses-json->llama-index-core<0.11.0,>=0.10.27->llama-index) (24.0)\n",
            "Requirement already satisfied: six>=1.5 in /usr/local/lib/python3.10/dist-packages (from python-dateutil>=2.8.2->pandas->llama-index-core<0.11.0,>=0.10.27->llama-index) (1.16.0)\n",
            "Installing collected packages: striprtf, dirtyjson, pypdf, PyMuPDFb, mypy-extensions, marshmallow, h11, deprecated, typing-inspect, tiktoken, pymupdf, httpcore, httpx, dataclasses-json, openai, llamaindex-py-client, llama-index-legacy, llama-index-core, llama-parse, llama-index-readers-file, llama-index-llms-openai, llama-index-indices-managed-llama-cloud, llama-index-embeddings-openai, llama-index-readers-llama-parse, llama-index-multi-modal-llms-openai, llama-index-cli, llama-index-agent-openai, llama-index-program-openai, llama-index-question-gen-openai, llama-index\n",
            "Successfully installed PyMuPDFb-1.24.1 dataclasses-json-0.6.4 deprecated-1.2.14 dirtyjson-1.0.8 h11-0.14.0 httpcore-1.0.5 httpx-0.27.0 llama-index-0.10.27 llama-index-agent-openai-0.2.2 llama-index-cli-0.1.11 llama-index-core-0.10.27 llama-index-embeddings-openai-0.1.7 llama-index-indices-managed-llama-cloud-0.1.5 llama-index-legacy-0.9.48 llama-index-llms-openai-0.1.14 llama-index-multi-modal-llms-openai-0.1.4 llama-index-program-openai-0.1.5 llama-index-question-gen-openai-0.1.3 llama-index-readers-file-0.1.13 llama-index-readers-llama-parse-0.1.4 llama-parse-0.4.0 llamaindex-py-client-0.1.16 marshmallow-3.21.1 mypy-extensions-1.0.0 openai-1.16.2 pymupdf-1.24.1 pypdf-4.1.0 striprtf-0.0.26 tiktoken-0.6.0 typing-inspect-0.9.0\n"
          ]
        }
      ]
    },
    {
      "cell_type": "code",
      "execution_count": null,
      "metadata": {
        "id": "FM1rh3lF2Ciu"
      },
      "outputs": [],
      "source": [
        "# os.environ['OPENAI_API_KEY']=os.getenv(\"OPENAI_API_KEY\")"
      ]
    },
    {
      "cell_type": "code",
      "source": [
        "!pip list | grep llama"
      ],
      "metadata": {
        "colab": {
          "base_uri": "https://localhost:8080/"
        },
        "id": "u0phGxaV4MD6",
        "outputId": "5540cbc6-89cb-486b-a6ff-dcb41fa9c101"
      },
      "execution_count": 7,
      "outputs": [
        {
          "output_type": "stream",
          "name": "stdout",
          "text": [
            "llama-index                             0.10.27\n",
            "llama-index-agent-openai                0.2.2\n",
            "llama-index-cli                         0.1.11\n",
            "llama-index-core                        0.10.27\n",
            "llama-index-embeddings-openai           0.1.7\n",
            "llama-index-indices-managed-llama-cloud 0.1.5\n",
            "llama-index-legacy                      0.9.48\n",
            "llama-index-llms-openai                 0.1.14\n",
            "llama-index-multi-modal-llms-openai     0.1.4\n",
            "llama-index-program-openai              0.1.5\n",
            "llama-index-question-gen-openai         0.1.3\n",
            "llama-index-readers-file                0.1.13\n",
            "llama-index-readers-llama-parse         0.1.4\n",
            "llama-parse                             0.4.0\n",
            "llamaindex-py-client                    0.1.16\n"
          ]
        }
      ]
    },
    {
      "cell_type": "code",
      "execution_count": 42,
      "metadata": {
        "id": "ioSHyCyJ2Civ"
      },
      "outputs": [],
      "source": [
        "from llama_index.core import VectorStoreIndex, SimpleDirectoryReader\n",
        "documents=SimpleDirectoryReader(\"data\").load_data()"
      ]
    },
    {
      "cell_type": "code",
      "execution_count": 43,
      "metadata": {
        "id": "v3c0MUpf2Civ",
        "outputId": "f1c11606-4954-44b1-abc1-1ee7ef3e3f8b",
        "colab": {
          "base_uri": "https://localhost:8080/"
        }
      },
      "outputs": [
        {
          "output_type": "execute_result",
          "data": {
            "text/plain": [
              "[Document(id_='74a8fbc8-296d-4bec-804d-8903418b53cd', embedding=None, metadata={'page_label': '1', 'file_name': 'attention.pdf', 'file_path': '/content/data/attention.pdf', 'file_type': 'application/pdf', 'file_size': 444482, 'creation_date': '2024-04-06', 'last_modified_date': '2024-04-06'}, excluded_embed_metadata_keys=['file_name', 'file_type', 'file_size', 'creation_date', 'last_modified_date', 'last_accessed_date'], excluded_llm_metadata_keys=['file_name', 'file_type', 'file_size', 'creation_date', 'last_modified_date', 'last_accessed_date'], relationships={}, text='Published as a conference paper at ICLR 2015\\nNEURAL MACHINE TRANSLATION\\nBYJOINTLY LEARNING TO ALIGN AND TRANSLATE\\nDzmitry Bahdanau\\nJacobs University Bremen, Germany\\nKyungHyun Cho Yoshua Bengio∗\\nUniversit ´e de Montr ´eal\\nABSTRACT\\nNeural machine translation is a recently proposed approach to machine transla-\\ntion. Unlike the traditional statistical machine translation, the neural machine\\ntranslation aims at building a single neural network that can be jointly tuned to\\nmaximize the translation performance. The models proposed recently for neu-\\nral machine translation often belong to a family of encoder–decoders and encode\\na source sentence into a ﬁxed-length vector from which a decoder generates a\\ntranslation. In this paper, we conjecture that the use of a ﬁxed-length vector is a\\nbottleneck in improving the performance of this basic encoder–decoder architec-\\nture, and propose to extend this by allowing a model to automatically (soft-)search\\nfor parts of a source sentence that are relevant to predicting a target word, without\\nhaving to form these parts as a hard segment explicitly. With this new approach,\\nwe achieve a translation performance comparable to the existing state-of-the-art\\nphrase-based system on the task of English-to-French translation. Furthermore,\\nqualitative analysis reveals that the (soft-)alignments found by the model agree\\nwell with our intuition.\\n1 I NTRODUCTION\\nNeural machine translation is a newly emerging approach to machine translation, recently proposed\\nby Kalchbrenner and Blunsom (2013), Sutskever et al. (2014) and Cho et al. (2014b). Unlike the\\ntraditional phrase-based translation system (see, e.g., Koehn et al. , 2003) which consists of many\\nsmall sub-components that are tuned separately, neural machine translation attempts to build and\\ntrain a single, large neural network that reads a sentence and outputs a correct translation.\\nMost of the proposed neural machine translation models belong to a family of encoder–\\ndecoders (Sutskever et al. , 2014; Cho et al. , 2014a), with an encoder and a decoder for each lan-\\nguage, or involve a language-speciﬁc encoder applied to each sentence whose outputs are then com-\\npared (Hermann and Blunsom, 2014). An encoder neural network reads and encodes a source sen-\\ntence into a ﬁxed-length vector. A decoder then outputs a translation from the encoded vector. The\\nwhole encoder–decoder system, which consists of the encoder and the decoder for a language pair,\\nis jointly trained to maximize the probability of a correct translation given a source sentence.\\nA potential issue with this encoder–decoder approach is that a neural network needs to be able to\\ncompress all the necessary information of a source sentence into a ﬁxed-length vector. This may\\nmake it difﬁcult for the neural network to cope with long sentences, especially those that are longer\\nthan the sentences in the training corpus. Cho et al. (2014b) showed that indeed the performance of\\na basic encoder–decoder deteriorates rapidly as the length of an input sentence increases.\\nIn order to address this issue, we introduce an extension to the encoder–decoder model which learns\\nto align and translate jointly. Each time the proposed model generates a word in a translation, it\\n(soft-)searches for a set of positions in a source sentence where the most relevant information is\\nconcentrated. The model then predicts a target word based on the context vectors associated with\\nthese source positions and all the previous generated target words.\\n∗CIFAR Senior Fellow\\n1arXiv:1409.0473v7  [cs.CL]  19 May 2016', start_char_idx=None, end_char_idx=None, text_template='{metadata_str}\\n\\n{content}', metadata_template='{key}: {value}', metadata_seperator='\\n'),\n",
              " Document(id_='b761f8f4-cc86-4639-93fe-360092bf3d35', embedding=None, metadata={'page_label': '2', 'file_name': 'attention.pdf', 'file_path': '/content/data/attention.pdf', 'file_type': 'application/pdf', 'file_size': 444482, 'creation_date': '2024-04-06', 'last_modified_date': '2024-04-06'}, excluded_embed_metadata_keys=['file_name', 'file_type', 'file_size', 'creation_date', 'last_modified_date', 'last_accessed_date'], excluded_llm_metadata_keys=['file_name', 'file_type', 'file_size', 'creation_date', 'last_modified_date', 'last_accessed_date'], relationships={}, text='Published as a conference paper at ICLR 2015\\nThe most important distinguishing feature of this approach from the basic encoder–decoder is that\\nit does not attempt to encode a whole input sentence into a single ﬁxed-length vector. Instead, it en-\\ncodes the input sentence into a sequence of vectors and chooses a subset of these vectors adaptively\\nwhile decoding the translation. This frees a neural translation model from having to squash all the\\ninformation of a source sentence, regardless of its length, into a ﬁxed-length vector. We show this\\nallows a model to cope better with long sentences.\\nIn this paper, we show that the proposed approach of jointly learning to align and translate achieves\\nsigniﬁcantly improved translation performance over the basic encoder–decoder approach. The im-\\nprovement is more apparent with longer sentences, but can be observed with sentences of any\\nlength. On the task of English-to-French translation, the proposed approach achieves, with a single\\nmodel, a translation performance comparable, or close, to the conventional phrase-based system.\\nFurthermore, qualitative analysis reveals that the proposed model ﬁnds a linguistically plausible\\n(soft-)alignment between a source sentence and the corresponding target sentence.\\n2 B ACKGROUND : NEURAL MACHINE TRANSLATION\\nFrom a probabilistic perspective, translation is equivalent to ﬁnding a target sentence ythat max-\\nimizes the conditional probability of ygiven a source sentence x, i.e., arg maxyp(y|x). In\\nneural machine translation, we ﬁt a parameterized model to maximize the conditional probability\\nof sentence pairs using a parallel training corpus. Once the conditional distribution is learned by a\\ntranslation model, given a source sentence a corresponding translation can be generated by searching\\nfor the sentence that maximizes the conditional probability.\\nRecently, a number of papers have proposed the use of neural networks to directly learn this condi-\\ntional distribution (see, e.g., Kalchbrenner and Blunsom, 2013; Cho et al. , 2014a; Sutskever et al. ,\\n2014; Cho et al. , 2014b; Forcada and ˜Neco, 1997). This neural machine translation approach typ-\\nically consists of two components, the ﬁrst of which encodes a source sentence xand the second\\ndecodes to a target sentence y. For instance, two recurrent neural networks (RNN) were used by\\n(Cho et al. , 2014a) and (Sutskever et al. , 2014) to encode a variable-length source sentence into a\\nﬁxed-length vector and to decode the vector into a variable-length target sentence.\\nDespite being a quite new approach, neural machine translation has already shown promising results.\\nSutskever et al. (2014) reported that the neural machine translation based on RNNs with long short-\\nterm memory (LSTM) units achieves close to the state-of-the-art performance of the conventional\\nphrase-based machine translation system on an English-to-French translation task.1Adding neural\\ncomponents to existing translation systems, for instance, to score the phrase pairs in the phrase\\ntable (Cho et al. , 2014a) or to re-rank candidate translations (Sutskever et al. , 2014), has allowed to\\nsurpass the previous state-of-the-art performance level.\\n2.1 RNN E NCODER –DECODER\\nHere, we describe brieﬂy the underlying framework, called RNN Encoder–Decoder , proposed by\\nCho et al. (2014a) and Sutskever et al. (2014) upon which we build a novel architecture that learns\\nto align and translate simultaneously.\\nIn the Encoder–Decoder framework, an encoder reads the input sentence, a sequence of vectors\\nx= (x1,···,xTx), into a vector c.2The most common approach is to use an RNN such that\\nht=f(xt,ht−1) (1)\\nand\\nc=q({h1,···,hTx}),\\nwhereht∈Rnis a hidden state at time t, andcis a vector generated from the sequence of the\\nhidden states. fandqare some nonlinear functions. Sutskever et al. (2014) used an LSTM as fand\\nq({h1,···,hT}) =hT, for instance.\\n1We mean by the state-of-the-art performance, the performance of the conventional phrase-based system\\nwithout using any neural network-based component.\\n2Although most of the previous works (see, e.g., Cho et al. , 2014a; Sutskever et al. , 2014; Kalchbrenner and\\nBlunsom, 2013) used to encode a variable-length input sentence into a ﬁxed-length vector, it is not necessary,\\nand even it may be beneﬁcial to have a variable-length vector, as we will show later.\\n2', start_char_idx=None, end_char_idx=None, text_template='{metadata_str}\\n\\n{content}', metadata_template='{key}: {value}', metadata_seperator='\\n'),\n",
              " Document(id_='90423fb2-ea47-43a5-9504-22f20a0a12fb', embedding=None, metadata={'page_label': '3', 'file_name': 'attention.pdf', 'file_path': '/content/data/attention.pdf', 'file_type': 'application/pdf', 'file_size': 444482, 'creation_date': '2024-04-06', 'last_modified_date': '2024-04-06'}, excluded_embed_metadata_keys=['file_name', 'file_type', 'file_size', 'creation_date', 'last_modified_date', 'last_accessed_date'], excluded_llm_metadata_keys=['file_name', 'file_type', 'file_size', 'creation_date', 'last_modified_date', 'last_accessed_date'], relationships={}, text='Published as a conference paper at ICLR 2015\\nThe decoder is often trained to predict the next word yt′given the context vector cand all the\\npreviously predicted words {y1,···,yt′−1}. In other words, the decoder deﬁnes a probability over\\nthe translation yby decomposing the joint probability into the ordered conditionals:\\np(y) =T∏\\nt=1p(yt|{y1,···,yt−1},c), (2)\\nwhere y=(\\ny1,···,yTy)\\n. With an RNN, each conditional probability is modeled as\\np(yt|{y1,···,yt−1},c) =g(yt−1,st,c), (3)\\nwheregis a nonlinear, potentially multi-layered, function that outputs the probability of yt, andstis\\nthe hidden state of the RNN. It should be noted that other architectures such as a hybrid of an RNN\\nand a de-convolutional neural network can be used (Kalchbrenner and Blunsom, 2013).\\n3 L EARNING TO ALIGN AND TRANSLATE\\nIn this section, we propose a novel architecture for neural machine translation. The new architecture\\nconsists of a bidirectional RNN as an encoder (Sec. 3.2) and a decoder that emulates searching\\nthrough a source sentence during decoding a translation (Sec. 3.1).\\n3.1 D ECODER : GENERAL DESCRIPTION\\nx1x2x3xT+\\nαt,1\\nαt,2 αt,3αt,Tyt-1yt\\nh1h2h3 hTh1h2h3 hTst-1st\\nFigure 1: The graphical illus-\\ntration of the proposed model\\ntrying to generate the t-th tar-\\nget wordytgiven a source\\nsentence (x1,x2,...,x T).In a new model architecture, we deﬁne each conditional probability\\nin Eq. (2) as:\\np(yi|y1,...,y i−1,x) =g(yi−1,si,ci), (4)\\nwheresiis an RNN hidden state for time i, computed by\\nsi=f(si−1,yi−1,ci).\\nIt should be noted that unlike the existing encoder–decoder ap-\\nproach (see Eq. (2)), here the probability is conditioned on a distinct\\ncontext vector cifor each target word yi.\\nThe context vector cidepends on a sequence of annotations\\n(h1,···,hTx)to which an encoder maps the input sentence. Each\\nannotationhicontains information about the whole input sequence\\nwith a strong focus on the parts surrounding the i-th word of the\\ninput sequence. We explain in detail how the annotations are com-\\nputed in the next section.\\nThe context vector ciis, then, computed as a weighted sum of these\\nannotationshi:\\nci=Tx∑\\nj=1αijhj. (5)\\nThe weightαijof each annotation hjis computed by\\nαij=exp (eij)∑Tx\\nk=1exp (eik), (6)\\nwhere\\neij=a(si−1,hj)\\nis an alignment model which scores how well the inputs around position jand the output at position\\nimatch. The score is based on the RNN hidden state si−1(just before emitting yi, Eq. (4)) and the\\nj-th annotation hjof the input sentence.\\nWe parametrize the alignment model aas a feedforward neural network which is jointly trained with\\nall the other components of the proposed system. Note that unlike in traditional machine translation,\\n3', start_char_idx=None, end_char_idx=None, text_template='{metadata_str}\\n\\n{content}', metadata_template='{key}: {value}', metadata_seperator='\\n'),\n",
              " Document(id_='7416377b-bbd2-454f-86f0-21cb573ac4c2', embedding=None, metadata={'page_label': '4', 'file_name': 'attention.pdf', 'file_path': '/content/data/attention.pdf', 'file_type': 'application/pdf', 'file_size': 444482, 'creation_date': '2024-04-06', 'last_modified_date': '2024-04-06'}, excluded_embed_metadata_keys=['file_name', 'file_type', 'file_size', 'creation_date', 'last_modified_date', 'last_accessed_date'], excluded_llm_metadata_keys=['file_name', 'file_type', 'file_size', 'creation_date', 'last_modified_date', 'last_accessed_date'], relationships={}, text='Published as a conference paper at ICLR 2015\\nthe alignment is not considered to be a latent variable. Instead, the alignment model directly com-\\nputes a soft alignment, which allows the gradient of the cost function to be backpropagated through.\\nThis gradient can be used to train the alignment model as well as the whole translation model jointly.\\nWe can understand the approach of taking a weighted sum of all the annotations as computing an\\nexpected annotation , where the expectation is over possible alignments. Let αijbe a probability that\\nthe target word yiis aligned to, or translated from, a source word xj. Then, thei-th context vector\\nciis the expected annotation over all the annotations with probabilities αij.\\nThe probability αij, or its associated energy eij, reﬂects the importance of the annotation hjwith\\nrespect to the previous hidden state si−1in deciding the next state siand generating yi. Intuitively,\\nthis implements a mechanism of attention in the decoder. The decoder decides parts of the source\\nsentence to pay attention to. By letting the decoder have an attention mechanism, we relieve the\\nencoder from the burden of having to encode all information in the source sentence into a ﬁxed-\\nlength vector. With this new approach the information can be spread throughout the sequence of\\nannotations, which can be selectively retrieved by the decoder accordingly.\\n3.2 E NCODER : BIDIRECTIONAL RNN FOR ANNOTATING SEQUENCES\\nThe usual RNN, described in Eq. (1), reads an input sequence xin order starting from the ﬁrst\\nsymbolx1to the last one xTx. However, in the proposed scheme, we would like the annotation\\nof each word to summarize not only the preceding words, but also the following words. Hence,\\nwe propose to use a bidirectional RNN (BiRNN, Schuster and Paliwal, 1997), which has been\\nsuccessfully used recently in speech recognition (see, e.g., Graves et al. , 2013).\\nA BiRNN consists of forward and backward RNN’s. The forward RNN− →freads the input sequence\\nas it is ordered (from x1toxTx) and calculates a sequence of forward hidden states (− →h1,···,− →hTx).\\nThe backward RNN← −freads the sequence in the reverse order (from xTxtox1), resulting in a\\nsequence of backward hidden states (← −h1,···,← −hTx).\\nWe obtain an annotation for each word xjby concatenating the forward hidden state− →hjand the\\nbackward one← −hj, i.e.,hj=[− →h⊤\\nj;← −h⊤\\nj]⊤\\n. In this way, the annotation hjcontains the summaries\\nof both the preceding words and the following words. Due to the tendency of RNNs to better\\nrepresent recent inputs, the annotation hjwill be focused on the words around xj. This sequence\\nof annotations is used by the decoder and the alignment model later to compute the context vector\\n(Eqs. (5)–(6)).\\nSee Fig. 1 for the graphical illustration of the proposed model.\\n4 E XPERIMENT SETTINGS\\nWe evaluate the proposed approach on the task of English-to-French translation. We use the bilin-\\ngual, parallel corpora provided by ACL WMT ’14.3As a comparison, we also report the perfor-\\nmance of an RNN Encoder–Decoder which was proposed recently by Cho et al. (2014a). We use\\nthe same training procedures and the same dataset for both models.4\\n4.1 D ATASET\\nWMT ’14 contains the following English-French parallel corpora: Europarl (61M words), news\\ncommentary (5.5M), UN (421M) and two crawled corpora of 90M and 272.5M words respectively,\\ntotaling 850M words. Following the procedure described in Cho et al. (2014a), we reduce the size of\\nthe combined corpus to have 348M words using the data selection method by Axelrod et al. (2011).5\\nWe do not use any monolingual data other than the mentioned parallel corpora, although it may be\\npossible to use a much larger monolingual corpus to pretrain an encoder. We concatenate news-test-\\n3http://www.statmt.org/wmt14/translation-task.html\\n4Implementations are available at https://github.com/lisa-groundhog/GroundHog .\\n5Available online at http://www-lium.univ-lemans.fr/ ˜schwenk/cslm_joint_paper/ .\\n4', start_char_idx=None, end_char_idx=None, text_template='{metadata_str}\\n\\n{content}', metadata_template='{key}: {value}', metadata_seperator='\\n'),\n",
              " Document(id_='64f8ab08-3bf7-467b-85f4-5270161f228e', embedding=None, metadata={'page_label': '5', 'file_name': 'attention.pdf', 'file_path': '/content/data/attention.pdf', 'file_type': 'application/pdf', 'file_size': 444482, 'creation_date': '2024-04-06', 'last_modified_date': '2024-04-06'}, excluded_embed_metadata_keys=['file_name', 'file_type', 'file_size', 'creation_date', 'last_modified_date', 'last_accessed_date'], excluded_llm_metadata_keys=['file_name', 'file_type', 'file_size', 'creation_date', 'last_modified_date', 'last_accessed_date'], relationships={}, text='Published as a conference paper at ICLR 2015\\n0 10 20 30 40 50 60\\nSentence length051015202530BLEU score RNNsearch-50\\nRNNsearch-30\\nRNNenc-50\\nRNNenc-30\\nFigure 2: The BLEU scores\\nof the generated translations\\non the test set with respect\\nto the lengths of the sen-\\ntences. The results are on\\nthe full test set which in-\\ncludes sentences having un-\\nknown words to the models.\\n2012 and news-test-2013 to make a development (validation) set, and evaluate the models on the test\\nset (news-test-2014) from WMT ’14, which consists of 3003 sentences not present in the training\\ndata.\\nAfter a usual tokenization6, we use a shortlist of 30,000 most frequent words in each language to\\ntrain our models. Any word not included in the shortlist is mapped to a special token ( [UNK ]). We\\ndo not apply any other special preprocessing, such as lowercasing or stemming, to the data.\\n4.2 M ODELS\\nWe train two types of models. The ﬁrst one is an RNN Encoder–Decoder (RNNencdec, Cho et al. ,\\n2014a), and the other is the proposed model, to which we refer as RNNsearch. We train each model\\ntwice: ﬁrst with the sentences of length up to 30 words (RNNencdec-30, RNNsearch-30) and then\\nwith the sentences of length up to 50 word (RNNencdec-50, RNNsearch-50).\\nThe encoder and decoder of the RNNencdec have 1000 hidden units each.7The encoder of the\\nRNNsearch consists of forward and backward recurrent neural networks (RNN) each having 1000\\nhidden units. Its decoder has 1000 hidden units. In both cases, we use a multilayer network with a\\nsingle maxout (Goodfellow et al. , 2013) hidden layer to compute the conditional probability of each\\ntarget word (Pascanu et al. , 2014).\\nWe use a minibatch stochastic gradient descent (SGD) algorithm together with Adadelta (Zeiler,\\n2012) to train each model. Each SGD update direction is computed using a minibatch of 80 sen-\\ntences. We trained each model for approximately 5 days.\\nOnce a model is trained, we use a beam search to ﬁnd a translation that approximately maximizes the\\nconditional probability (see, e.g., Graves, 2012; Boulanger-Lewandowski et al. , 2013). Sutskever\\net al. (2014) used this approach to generate translations from their neural machine translation model.\\nFor more details on the architectures of the models and training procedure used in the experiments,\\nsee Appendices A and B.\\n5 R ESULTS\\n5.1 Q UANTITATIVE RESULTS\\nIn Table 1, we list the translation performances measured in BLEU score. It is clear from the table\\nthat in all the cases, the proposed RNNsearch outperforms the conventional RNNencdec. More\\nimportantly, the performance of the RNNsearch is as high as that of the conventional phrase-based\\ntranslation system (Moses), when only the sentences consisting of known words are considered.\\nThis is a signiﬁcant achievement, considering that Moses uses a separate monolingual corpus (418M\\nwords) in addition to the parallel corpora we used to train the RNNsearch and RNNencdec.\\n6We used the tokenization script from the open-source machine translation package, Moses.\\n7In this paper, by a ’hidden unit’, we always mean the gated hidden unit (see Appendix A.1.1).\\n5', start_char_idx=None, end_char_idx=None, text_template='{metadata_str}\\n\\n{content}', metadata_template='{key}: {value}', metadata_seperator='\\n'),\n",
              " Document(id_='8645d94d-27fe-4b64-8139-860465d8d96b', embedding=None, metadata={'page_label': '6', 'file_name': 'attention.pdf', 'file_path': '/content/data/attention.pdf', 'file_type': 'application/pdf', 'file_size': 444482, 'creation_date': '2024-04-06', 'last_modified_date': '2024-04-06'}, excluded_embed_metadata_keys=['file_name', 'file_type', 'file_size', 'creation_date', 'last_modified_date', 'last_accessed_date'], excluded_llm_metadata_keys=['file_name', 'file_type', 'file_size', 'creation_date', 'last_modified_date', 'last_accessed_date'], relationships={}, text='Published as a conference paper at ICLR 2015\\nThe\\nagreement\\non\\nthe\\nEuropean\\nEconomic\\nArea\\nwas\\nsigned\\nin\\nAugust\\n1992\\n.\\n<end>\\nL\\'\\naccord\\nsur\\nla\\nzone\\néconomique\\neuropéenne\\na\\nété\\nsigné\\nen\\naoût\\n1992\\n.\\n<end>\\nIt\\nshould\\nbe\\nnoted\\nthat\\nthe\\nmarine\\nenvironment\\nis\\nthe\\nleast\\nknown\\nof\\nenvironments\\n.\\n<end>\\nIl\\nconvient\\nde\\nnoter\\nque\\nl\\'\\nenvironnement\\nmarin\\nest\\nle\\nmoins\\nconnu\\nde\\nl\\'\\nenvironnement\\n.\\n<end>\\n(a) (b)\\nDestruction\\nof\\nthe\\nequipment\\nmeans\\nthat\\nSyria\\ncan\\nno\\nlonger\\nproduce\\nnew\\nchemical\\nweapons\\n.\\n<end>\\nLa\\ndestruction\\nde\\nl\\'\\néquipement\\nsignifie\\nque\\nla\\nSyrie\\nne\\npeut\\nplus\\nproduire\\nde\\nnouvelles\\narmes\\nchimiques\\n.\\n<end>\\n\"\\nThis\\nwill\\nchange\\nmy\\nfuture\\nwith\\nmy\\nfamily\\n,\\n\"\\nthe\\nman\\nsaid\\n.\\n<end>\\n\"\\nCela\\nva\\nchanger\\nmon\\navenir\\navec\\nma\\nfamille\\n\"\\n,\\na\\ndit\\nl\\'\\nhomme\\n.\\n<end>\\n(c) (d)\\nFigure 3: Four sample alignments found by RNNsearch-50. The x-axis and y-axis of each plot\\ncorrespond to the words in the source sentence (English) and the generated translation (French),\\nrespectively. Each pixel shows the weight αijof the annotation of the j-th source word for the i-th\\ntarget word (see Eq. (6)), in grayscale ( 0: black, 1: white). (a) an arbitrary sentence. (b–d) three\\nrandomly selected samples among the sentences without any unknown words and of length between\\n10 and 20 words from the test set.\\nOne of the motivations behind the proposed approach was the use of a ﬁxed-length context vector\\nin the basic encoder–decoder approach. We conjectured that this limitation may make the basic\\nencoder–decoder approach to underperform with long sentences. In Fig. 2, we see that the perfor-\\nmance of RNNencdec dramatically drops as the length of the sentences increases. On the other hand,\\nboth RNNsearch-30 and RNNsearch-50 are more robust to the length of the sentences. RNNsearch-\\n50, especially, shows no performance deterioration even with sentences of length 50 or more. This\\nsuperiority of the proposed model over the basic encoder–decoder is further conﬁrmed by the fact\\nthat the RNNsearch-30 even outperforms RNNencdec-50 (see Table 1).\\n6', start_char_idx=None, end_char_idx=None, text_template='{metadata_str}\\n\\n{content}', metadata_template='{key}: {value}', metadata_seperator='\\n'),\n",
              " Document(id_='d702ddd5-be69-4107-b228-9b79b28b70b3', embedding=None, metadata={'page_label': '7', 'file_name': 'attention.pdf', 'file_path': '/content/data/attention.pdf', 'file_type': 'application/pdf', 'file_size': 444482, 'creation_date': '2024-04-06', 'last_modified_date': '2024-04-06'}, excluded_embed_metadata_keys=['file_name', 'file_type', 'file_size', 'creation_date', 'last_modified_date', 'last_accessed_date'], excluded_llm_metadata_keys=['file_name', 'file_type', 'file_size', 'creation_date', 'last_modified_date', 'last_accessed_date'], relationships={}, text='Published as a conference paper at ICLR 2015\\nModel All No UNK◦\\nRNNencdec-30 13.93 24.19\\nRNNsearch-30 21.50 31.44\\nRNNencdec-50 17.82 26.71\\nRNNsearch-50 26.75 34.16\\nRNNsearch-50⋆28.45 36.15\\nMoses 33.30 35.63Table 1: BLEU scores of the trained models com-\\nputed on the test set. The second and third columns\\nshow respectively the scores on all the sentences and,\\non the sentences without any unknown word in them-\\nselves and in the reference translations. Note that\\nRNNsearch-50⋆was trained much longer until the\\nperformance on the development set stopped improv-\\ning. (◦) We disallowed the models to generate [UNK]\\ntokens when only the sentences having no unknown\\nwords were evaluated (last column).\\n5.2 Q UALITATIVE ANALYSIS\\n5.2.1 A LIGNMENT\\nThe proposed approach provides an intuitive way to inspect the (soft-)alignment between the words\\nin a generated translation and those in a source sentence. This is done by visualizing the annotation\\nweightsαijfrom Eq. (6), as in Fig. 3. Each row of a matrix in each plot indicates the weights\\nassociated with the annotations. From this we see which positions in the source sentence were\\nconsidered more important when generating the target word.\\nWe can see from the alignments in Fig. 3 that the alignment of words between English and French\\nis largely monotonic. We see strong weights along the diagonal of each matrix. However, we also\\nobserve a number of non-trivial, non-monotonic alignments. Adjectives and nouns are typically\\nordered differently between French and English, and we see an example in Fig. 3 (a). From this\\nﬁgure, we see that the model correctly translates a phrase [European Economic Area] into [zone\\n´economique europ ´een]. The RNNsearch was able to correctly align [zone] with [Area], jumping\\nover the two words ([European] and [Economic]), and then looked one word back at a time to\\ncomplete the whole phrase [zone ´economique europ ´eenne].\\nThe strength of the soft-alignment, opposed to a hard-alignment, is evident, for instance, from\\nFig. 3 (d). Consider the source phrase [the man] which was translated into [l’ homme]. Any hard\\nalignment will map [the] to [l’] and [man] to [homme]. This is not helpful for translation, as one\\nmust consider the word following [the] to determine whether it should be translated into [le], [la],\\n[les] or [l’]. Our soft-alignment solves this issue naturally by letting the model look at both [the] and\\n[man], and in this example, we see that the model was able to correctly translate [the] into [l’]. We\\nobserve similar behaviors in all the presented cases in Fig. 3. An additional beneﬁt of the soft align-\\nment is that it naturally deals with source and target phrases of different lengths, without requiring a\\ncounter-intuitive way of mapping some words to or from nowhere ([NULL]) (see, e.g., Chapters 4\\nand 5 of Koehn, 2010).\\n5.2.2 L ONG SENTENCES\\nAs clearly visible from Fig. 2 the proposed model (RNNsearch) is much better than the conventional\\nmodel (RNNencdec) at translating long sentences. This is likely due to the fact that the RNNsearch\\ndoes not require encoding a long sentence into a ﬁxed-length vector perfectly, but only accurately\\nencoding the parts of the input sentence that surround a particular word.\\nAs an example, consider this source sentence from the test set:\\nAn admitting privilege is the right of a doctor to admit a patient to a hospital or\\na medical centre tocarry outadiagnosis oraprocedure, based onhisstatus asa\\nhealth care worker atahospital.\\nThe RNNencdec-50 translated this sentence into:\\nUn privil `ege d’admission est le droit d’un m ´edecin de reconna ˆıtre un patient `a\\nl’hˆopital ou un centre m ´edical d’un diagnostic oudeprendre undiagnostic en\\nfonction deson´etatdesant´e.\\n7', start_char_idx=None, end_char_idx=None, text_template='{metadata_str}\\n\\n{content}', metadata_template='{key}: {value}', metadata_seperator='\\n'),\n",
              " Document(id_='13bf79a7-26df-4fda-9193-9e2d4676f6c0', embedding=None, metadata={'page_label': '8', 'file_name': 'attention.pdf', 'file_path': '/content/data/attention.pdf', 'file_type': 'application/pdf', 'file_size': 444482, 'creation_date': '2024-04-06', 'last_modified_date': '2024-04-06'}, excluded_embed_metadata_keys=['file_name', 'file_type', 'file_size', 'creation_date', 'last_modified_date', 'last_accessed_date'], excluded_llm_metadata_keys=['file_name', 'file_type', 'file_size', 'creation_date', 'last_modified_date', 'last_accessed_date'], relationships={}, text='Published as a conference paper at ICLR 2015\\nThe RNNencdec-50 correctly translated the source sentence until [a medical center]. However, from\\nthere on (underlined), it deviated from the original meaning of the source sentence. For instance, it\\nreplaced [based on his status as a health care worker at a hospital] in the source sentence with [en\\nfonction de son ´etat de sant ´e] (“based on his state of health”).\\nOn the other hand, the RNNsearch-50 generated the following correct translation, preserving the\\nwhole meaning of the input sentence without omitting any details:\\nUn privil `ege d’admission est le droit d’un m ´edecin d’admettre un patient `a un\\nhˆopital ou un centre m ´edical pour effectuer undiagnostic ouuneproc´edure, selon\\nsonstatut detravailleur dessoins desant´e`al’hˆopital.\\nLet us consider another sentence from the test set:\\nThis kind of experience is part of Disney’s efforts to ”extend the lifetime of its\\nseries and build new relationships with audiences viadigital platforms that are\\nbecoming ever more important, ” headded.\\nThe translation by the RNNencdec-50 is\\nCe type d’exp ´erience fait partie des initiatives du Disney pour ”prolonger la dur ´ee\\nde vie de ses nouvelles et de d ´evelopper des liens avec les lecteurs num´eriques qui\\ndeviennent plus complexes.\\nAs with the previous example, the RNNencdec began deviating from the actual meaning of the\\nsource sentence after generating approximately 30 words (see the underlined phrase). After that\\npoint, the quality of the translation deteriorates, with basic mistakes such as the lack of a closing\\nquotation mark.\\nAgain, the RNNsearch-50 was able to translate this long sentence correctly:\\nCe genre d’exp ´erience fait partie des efforts de Disney pour ”prolonger la dur ´ee\\nde vie de ses s ´eries et cr ´eer de nouvelles relations avec des publics viades\\nplateformes num´eriques deplus enplus importantes”, a-t-il ajout ´e.\\nIn conjunction with the quantitative results presented already, these qualitative observations con-\\nﬁrm our hypotheses that the RNNsearch architecture enables far more reliable translation of long\\nsentences than the standard RNNencdec model.\\nIn Appendix C, we provide a few more sample translations of long source sentences generated by\\nthe RNNencdec-50, RNNsearch-50 and Google Translate along with the reference translations.\\n6 R ELATED WORK\\n6.1 L EARNING TO ALIGN\\nA similar approach of aligning an output symbol with an input symbol was proposed recently by\\nGraves (2013) in the context of handwriting synthesis. Handwriting synthesis is a task where the\\nmodel is asked to generate handwriting of a given sequence of characters. In his work, he used a\\nmixture of Gaussian kernels to compute the weights of the annotations, where the location, width\\nand mixture coefﬁcient of each kernel was predicted from an alignment model. More speciﬁcally,\\nhis alignment was restricted to predict the location such that the location increases monotonically.\\nThe main difference from our approach is that, in (Graves, 2013), the modes of the weights of the\\nannotations only move in one direction. In the context of machine translation, this is a severe limi-\\ntation, as (long-distance) reordering is often needed to generate a grammatically correct translation\\n(for instance, English-to-German).\\nOur approach, on the other hand, requires computing the annotation weight of every word in the\\nsource sentence for each word in the translation. This drawback is not severe with the task of\\ntranslation in which most of input and output sentences are only 15–40 words. However, this may\\nlimit the applicability of the proposed scheme to other tasks.\\n8', start_char_idx=None, end_char_idx=None, text_template='{metadata_str}\\n\\n{content}', metadata_template='{key}: {value}', metadata_seperator='\\n'),\n",
              " Document(id_='f4fa69ae-c004-4215-a3b7-1640ac70f3fd', embedding=None, metadata={'page_label': '9', 'file_name': 'attention.pdf', 'file_path': '/content/data/attention.pdf', 'file_type': 'application/pdf', 'file_size': 444482, 'creation_date': '2024-04-06', 'last_modified_date': '2024-04-06'}, excluded_embed_metadata_keys=['file_name', 'file_type', 'file_size', 'creation_date', 'last_modified_date', 'last_accessed_date'], excluded_llm_metadata_keys=['file_name', 'file_type', 'file_size', 'creation_date', 'last_modified_date', 'last_accessed_date'], relationships={}, text='Published as a conference paper at ICLR 2015\\n6.2 N EURAL NETWORKS FOR MACHINE TRANSLATION\\nSince Bengio et al. (2003) introduced a neural probabilistic language model which uses a neural net-\\nwork to model the conditional probability of a word given a ﬁxed number of the preceding words,\\nneural networks have widely been used in machine translation. However, the role of neural net-\\nworks has been largely limited to simply providing a single feature to an existing statistical machine\\ntranslation system or to re-rank a list of candidate translations provided by an existing system.\\nFor instance, Schwenk (2012) proposed using a feedforward neural network to compute the score of\\na pair of source and target phrases and to use the score as an additional feature in the phrase-based\\nstatistical machine translation system. More recently, Kalchbrenner and Blunsom (2013) and Devlin\\net al. (2014) reported the successful use of the neural networks as a sub-component of the existing\\ntranslation system. Traditionally, a neural network trained as a target-side language model has been\\nused to rescore or rerank a list of candidate translations (see, e.g., Schwenk et al. , 2006).\\nAlthough the above approaches were shown to improve the translation performance over the state-\\nof-the-art machine translation systems, we are more interested in a more ambitious objective of\\ndesigning a completely new translation system based on neural networks. The neural machine trans-\\nlation approach we consider in this paper is therefore a radical departure from these earlier works.\\nRather than using a neural network as a part of the existing system, our model works on its own and\\ngenerates a translation from a source sentence directly.\\n7 C ONCLUSION\\nThe conventional approach to neural machine translation, called an encoder–decoder approach, en-\\ncodes a whole input sentence into a ﬁxed-length vector from which a translation will be decoded.\\nWe conjectured that the use of a ﬁxed-length context vector is problematic for translating long sen-\\ntences, based on a recent empirical study reported by Cho et al. (2014b) and Pouget-Abadie et al.\\n(2014).\\nIn this paper, we proposed a novel architecture that addresses this issue. We extended the basic\\nencoder–decoder by letting a model (soft-)search for a set of input words, or their annotations com-\\nputed by an encoder, when generating each target word. This frees the model from having to encode\\na whole source sentence into a ﬁxed-length vector, and also lets the model focus only on information\\nrelevant to the generation of the next target word. This has a major positive impact on the ability\\nof the neural machine translation system to yield good results on longer sentences. Unlike with\\nthe traditional machine translation systems, all of the pieces of the translation system, including\\nthe alignment mechanism, are jointly trained towards a better log-probability of producing correct\\ntranslations.\\nWe tested the proposed model, called RNNsearch, on the task of English-to-French translation. The\\nexperiment revealed that the proposed RNNsearch outperforms the conventional encoder–decoder\\nmodel (RNNencdec) signiﬁcantly, regardless of the sentence length and that it is much more ro-\\nbust to the length of a source sentence. From the qualitative analysis where we investigated the\\n(soft-)alignment generated by the RNNsearch, we were able to conclude that the model can cor-\\nrectly align each target word with the relevant words, or their annotations, in the source sentence as\\nit generated a correct translation.\\nPerhaps more importantly, the proposed approach achieved a translation performance comparable to\\nthe existing phrase-based statistical machine translation. It is a striking result, considering that the\\nproposed architecture, or the whole family of neural machine translation, has only been proposed\\nas recently as this year. We believe the architecture proposed here is a promising step toward better\\nmachine translation and a better understanding of natural languages in general.\\nOne of challenges left for the future is to better handle unknown, or rare words. This will be required\\nfor the model to be more widely used and to match the performance of current state-of-the-art\\nmachine translation systems in all contexts.\\n9', start_char_idx=None, end_char_idx=None, text_template='{metadata_str}\\n\\n{content}', metadata_template='{key}: {value}', metadata_seperator='\\n'),\n",
              " Document(id_='469b9704-0875-4592-b4f4-3bca8e77da02', embedding=None, metadata={'page_label': '10', 'file_name': 'attention.pdf', 'file_path': '/content/data/attention.pdf', 'file_type': 'application/pdf', 'file_size': 444482, 'creation_date': '2024-04-06', 'last_modified_date': '2024-04-06'}, excluded_embed_metadata_keys=['file_name', 'file_type', 'file_size', 'creation_date', 'last_modified_date', 'last_accessed_date'], excluded_llm_metadata_keys=['file_name', 'file_type', 'file_size', 'creation_date', 'last_modified_date', 'last_accessed_date'], relationships={}, text='Published as a conference paper at ICLR 2015\\nACKNOWLEDGMENTS\\nThe authors would like to thank the developers of Theano (Bergstra et al. , 2010; Bastien et al. ,\\n2012). We acknowledge the support of the following agencies for research funding and computing\\nsupport: NSERC, Calcul Qu ´ebec, Compute Canada, the Canada Research Chairs and CIFAR. Bah-\\ndanau thanks the support from Planet Intelligent Systems GmbH. We also thank Felix Hill, Bart van\\nMerri ´enboer, Jean Pouget-Abadie, Coline Devin and Tae-Ho Kim.\\nREFERENCES\\nAxelrod, A., He, X., and Gao, J. (2011). Domain adaptation via pseudo in-domain data selection.\\nInProceedings of the ACL Conference on Empirical Methods in Natural Language Processing\\n(EMNLP) , pages 355–362. Association for Computational Linguistics.\\nBastien, F., Lamblin, P., Pascanu, R., Bergstra, J., Goodfellow, I. J., Bergeron, A., Bouchard, N.,\\nand Bengio, Y . (2012). Theano: new features and speed improvements. Deep Learning and\\nUnsupervised Feature Learning NIPS 2012 Workshop.\\nBengio, Y ., Simard, P., and Frasconi, P. (1994). Learning long-term dependencies with gradient\\ndescent is difﬁcult. IEEE Transactions on Neural Networks ,5(2), 157–166.\\nBengio, Y ., Ducharme, R., Vincent, P., and Janvin, C. (2003). A neural probabilistic language model.\\nJ. Mach. Learn. Res. ,3, 1137–1155.\\nBergstra, J., Breuleux, O., Bastien, F., Lamblin, P., Pascanu, R., Desjardins, G., Turian, J., Warde-\\nFarley, D., and Bengio, Y . (2010). Theano: a CPU and GPU math expression compiler. In\\nProceedings of the Python for Scientiﬁc Computing Conference (SciPy) . Oral Presentation.\\nBoulanger-Lewandowski, N., Bengio, Y ., and Vincent, P. (2013). Audio chord recognition with\\nrecurrent neural networks. In ISMIR .\\nCho, K., van Merrienboer, B., Gulcehre, C., Bougares, F., Schwenk, H., and Bengio, Y . (2014a).\\nLearning phrase representations using RNN encoder-decoder for statistical machine translation.\\nInProceedings of the Empiricial Methods in Natural Language Processing (EMNLP 2014) . to\\nappear.\\nCho, K., van Merri ¨enboer, B., Bahdanau, D., and Bengio, Y . (2014b). On the properties of neural\\nmachine translation: Encoder–Decoder approaches. In Eighth Workshop on Syntax, Semantics\\nand Structure in Statistical Translation . to appear.\\nDevlin, J., Zbib, R., Huang, Z., Lamar, T., Schwartz, R., and Makhoul, J. (2014). Fast and robust\\nneural network joint models for statistical machine translation. In Association for Computational\\nLinguistics .\\nForcada, M. L. and ˜Neco, R. P. (1997). Recursive hetero-associative memories for translation. In\\nJ. Mira, R. Moreno-D ´ıaz, and J. Cabestany, editors, Biological and Artiﬁcial Computation: From\\nNeuroscience to Technology , volume 1240 of Lecture Notes in Computer Science , pages 453–462.\\nSpringer Berlin Heidelberg.\\nGoodfellow, I., Warde-Farley, D., Mirza, M., Courville, A., and Bengio, Y . (2013). Maxout net-\\nworks. In Proceedings of The 30th International Conference on Machine Learning , pages 1319–\\n1327.\\nGraves, A. (2012). Sequence transduction with recurrent neural networks. In Proceedings of the\\n29th International Conference on Machine Learning (ICML 2012) .\\nGraves, A. (2013). Generating sequences with recurrent neural networks. arXiv: 1308.0850\\n[cs.NE] .\\nGraves, A., Jaitly, N., and Mohamed, A.-R. (2013). Hybrid speech recognition with deep bidirec-\\ntional LSTM. In Automatic Speech Recognition and Understanding (ASRU), 2013 IEEE Work-\\nshop on , pages 273–278.\\n10', start_char_idx=None, end_char_idx=None, text_template='{metadata_str}\\n\\n{content}', metadata_template='{key}: {value}', metadata_seperator='\\n'),\n",
              " Document(id_='f58b2207-425a-45d1-9ea9-6d548e62ca06', embedding=None, metadata={'page_label': '11', 'file_name': 'attention.pdf', 'file_path': '/content/data/attention.pdf', 'file_type': 'application/pdf', 'file_size': 444482, 'creation_date': '2024-04-06', 'last_modified_date': '2024-04-06'}, excluded_embed_metadata_keys=['file_name', 'file_type', 'file_size', 'creation_date', 'last_modified_date', 'last_accessed_date'], excluded_llm_metadata_keys=['file_name', 'file_type', 'file_size', 'creation_date', 'last_modified_date', 'last_accessed_date'], relationships={}, text='Published as a conference paper at ICLR 2015\\nHermann, K. and Blunsom, P. (2014). Multilingual distributed representations without word align-\\nment. In Proceedings of the Second International Conference on Learning Representations (ICLR\\n2014) .\\nHochreiter, S. (1991). Untersuchungen zu dynamischen neuronalen Netzen. Diploma thesis, Institut\\nf¨ur Informatik, Lehrstuhl Prof. Brauer, Technische Universit ¨at M ¨unchen.\\nHochreiter, S. and Schmidhuber, J. (1997). Long short-term memory. Neural Computation ,9(8),\\n1735–1780.\\nKalchbrenner, N. and Blunsom, P. (2013). Recurrent continuous translation models. In Proceedings\\nof the ACL Conference on Empirical Methods in Natural Language Processing (EMNLP) , pages\\n1700–1709. Association for Computational Linguistics.\\nKoehn, P. (2010). Statistical Machine Translation . Cambridge University Press, New York, NY ,\\nUSA.\\nKoehn, P., Och, F. J., and Marcu, D. (2003). Statistical phrase-based translation. In Proceedings\\nof the 2003 Conference of the North American Chapter of the Association for Computational\\nLinguistics on Human Language Technology - Volume 1 , NAACL ’03, pages 48–54, Stroudsburg,\\nPA, USA. Association for Computational Linguistics.\\nPascanu, R., Mikolov, T., and Bengio, Y . (2013a). On the difﬁculty of training recurrent neural\\nnetworks. In ICML’2013 .\\nPascanu, R., Mikolov, T., and Bengio, Y . (2013b). On the difﬁculty of training recurrent neural\\nnetworks. In Proceedings of the 30th International Conference on Machine Learning (ICML\\n2013) .\\nPascanu, R., Gulcehre, C., Cho, K., and Bengio, Y . (2014). How to construct deep recurrent neural\\nnetworks. In Proceedings of the Second International Conference on Learning Representations\\n(ICLR 2014) .\\nPouget-Abadie, J., Bahdanau, D., van Merri ¨enboer, B., Cho, K., and Bengio, Y . (2014). Overcoming\\nthe curse of sentence length for neural machine translation using automatic segmentation. In\\nEighth Workshop on Syntax, Semantics and Structure in Statistical Translation . to appear.\\nSchuster, M. and Paliwal, K. K. (1997). Bidirectional recurrent neural networks. Signal Processing,\\nIEEE Transactions on ,45(11), 2673–2681.\\nSchwenk, H. (2012). Continuous space translation models for phrase-based statistical machine\\ntranslation. In M. Kay and C. Boitet, editors, Proceedings of the 24th International Conference on\\nComputational Linguistics (COLIN) , pages 1071–1080. Indian Institute of Technology Bombay.\\nSchwenk, H., Dchelotte, D., and Gauvain, J.-L. (2006). Continuous space language models for\\nstatistical machine translation. In Proceedings of the COLING/ACL on Main conference poster\\nsessions , pages 723–730. Association for Computational Linguistics.\\nSutskever, I., Vinyals, O., and Le, Q. (2014). Sequence to sequence learning with neural networks.\\nInAdvances in Neural Information Processing Systems (NIPS 2014) .\\nZeiler, M. D. (2012). ADADELTA: An adaptive learning rate method. arXiv: 1212.5701\\n[cs.LG] .\\n11', start_char_idx=None, end_char_idx=None, text_template='{metadata_str}\\n\\n{content}', metadata_template='{key}: {value}', metadata_seperator='\\n'),\n",
              " Document(id_='085f891e-bce4-45f3-8d4f-ae390e9a6888', embedding=None, metadata={'page_label': '12', 'file_name': 'attention.pdf', 'file_path': '/content/data/attention.pdf', 'file_type': 'application/pdf', 'file_size': 444482, 'creation_date': '2024-04-06', 'last_modified_date': '2024-04-06'}, excluded_embed_metadata_keys=['file_name', 'file_type', 'file_size', 'creation_date', 'last_modified_date', 'last_accessed_date'], excluded_llm_metadata_keys=['file_name', 'file_type', 'file_size', 'creation_date', 'last_modified_date', 'last_accessed_date'], relationships={}, text='Published as a conference paper at ICLR 2015\\nA M ODEL ARCHITECTURE\\nA.1 A RCHITECTURAL CHOICES\\nThe proposed scheme in Section 3 is a general framework where one can freely deﬁne, for instance,\\nthe activation functions fof recurrent neural networks (RNN) and the alignment model a. Here, we\\ndescribe the choices we made for the experiments in this paper.\\nA.1.1 R ECURRENT NEURAL NETWORK\\nFor the activation function fof an RNN, we use the gated hidden unit recently proposed by Cho\\net al. (2014a). The gated hidden unit is an alternative to the conventional simple units such as an\\nelement-wise tanh . This gated unit is similar to a long short-term memory (LSTM) unit proposed\\nearlier by Hochreiter and Schmidhuber (1997), sharing with it the ability to better model and learn\\nlong-term dependencies. This is made possible by having computation paths in the unfolded RNN\\nfor which the product of derivatives is close to 1. These paths allow gradients to ﬂow backward\\neasily without suffering too much from the vanishing effect (Hochreiter, 1991; Bengio et al. , 1994;\\nPascanu et al. , 2013a). It is therefore possible to use LSTM units instead of the gated hidden unit\\ndescribed here, as was done in a similar context by Sutskever et al. (2014).\\nThe new state siof the RNN employing ngated hidden units8is computed by\\nsi=f(si−1,yi−1,ci) = (1−zi)◦si−1+zi◦˜si,\\nwhere◦is an element-wise multiplication, and ziis the output of the update gates (see below). The\\nproposed updated state ˜siis computed by\\n˜si= tanh (We(yi−1) +U[ri◦si−1] +Cci),\\nwheree(yi−1)∈Rmis anm-dimensional embedding of a word yi−1, andriis the output of the\\nreset gates (see below). When yiis represented as a 1-of-Kvector,e(yi)is simply a column of an\\nembedding matrix E∈Rm×K. Whenever possible, we omit bias terms to make the equations less\\ncluttered.\\nThe update gates ziallow each hidden unit to maintain its previous activation, and the reset gates ri\\ncontrol how much and what information from the previous state should be reset. We compute them\\nby\\nzi=σ(Wze(yi−1) +Uzsi−1+Czci),\\nri=σ(Wre(yi−1) +Ursi−1+Crci),\\nwhereσ(·)is a logistic sigmoid function.\\nAt each step of the decoder, we compute the output probability (Eq. (4)) as a multi-layered func-\\ntion (Pascanu et al. , 2014). We use a single hidden layer of maxout units (Goodfellow et al. , 2013)\\nand normalize the output probabilities (one for each word) with a softmax function (see Eq. (6)).\\nA.1.2 A LIGNMENT MODEL\\nThe alignment model should be designed considering that the model needs to be evaluated Tx×Ty\\ntimes for each sentence pair of lengths TxandTy. In order to reduce computation, we use a single-\\nlayer multilayer perceptron such that\\na(si−1,hj) =v⊤\\natanh (Wasi−1+Uahj),\\nwhereWa∈Rn×n,Ua∈Rn×2nandva∈Rnare the weight matrices. Since Uahjdoes not\\ndepend oni, we can pre-compute it in advance to minimize the computational cost.\\n8Here, we show the formula of the decoder. The same formula can be used in the encoder by simply\\nignoring the context vector ciand the related terms.\\n12', start_char_idx=None, end_char_idx=None, text_template='{metadata_str}\\n\\n{content}', metadata_template='{key}: {value}', metadata_seperator='\\n'),\n",
              " Document(id_='629ce8a1-6789-464a-9eba-6cca6ec57e96', embedding=None, metadata={'page_label': '13', 'file_name': 'attention.pdf', 'file_path': '/content/data/attention.pdf', 'file_type': 'application/pdf', 'file_size': 444482, 'creation_date': '2024-04-06', 'last_modified_date': '2024-04-06'}, excluded_embed_metadata_keys=['file_name', 'file_type', 'file_size', 'creation_date', 'last_modified_date', 'last_accessed_date'], excluded_llm_metadata_keys=['file_name', 'file_type', 'file_size', 'creation_date', 'last_modified_date', 'last_accessed_date'], relationships={}, text='Published as a conference paper at ICLR 2015\\nA.2 D ETAILED DESCRIPTION OF THE MODEL\\nA.2.1 E NCODER\\nIn this section, we describe in detail the architecture of the proposed model (RNNsearch) used in the\\nexperiments (see Sec. 4–5). From here on, we omit all bias terms in order to increase readability.\\nThe model takes a source sentence of 1-of-K coded word vectors as input\\nx= (x1,...,x Tx), xi∈RKx\\nand outputs a translated sentence of 1-of-K coded word vectors\\ny= (y1,...,y Ty), yi∈RKy,\\nwhereKxandKyare the vocabulary sizes of source and target languages, respectively. TxandTy\\nrespectively denote the lengths of source and target sentences.\\nFirst, the forward states of the bidirectional recurrent neural network (BiRNN) are computed:\\n− →hi={\\n(1−− →zi)◦− →hi−1+− →zi◦− →hi, ifi>0\\n0 , ifi= 0\\nwhere\\n− →hi= tanh(− →WExi+− →U[− →ri◦− →hi−1])\\n− →zi=σ(− →WzExi+− →Uz− →hi−1)\\n− →ri=σ(− →WrExi+− →Ur− →hi−1)\\n.\\nE∈Rm×Kxis the word embedding matrix.− →W,− →Wz,− →Wr∈Rn×m,− →U,− →Uz,− →Ur∈Rn×nare\\nweight matrices. mandnare the word embedding dimensionality and the number of hidden units,\\nrespectively. σ(·)is as usual a logistic sigmoid function.\\nThe backward states (← −h1,···,← −hTx)are computed similarly. We share the word embedding matrix\\nEbetween the forward and backward RNNs, unlike the weight matrices.\\nWe concatenate the forward and backward states to to obtain the annotations (h1,h2,···,hTx),\\nwhere\\nhi=[− →hi← −hi]\\n(7)\\nA.2.2 D ECODER\\nThe hidden state siof the decoder given the annotations from the encoder is computed by\\nsi=(1−zi)◦si−1+zi◦˜si,\\nwhere\\n˜si= tanh (WEy i−1+U[ri◦si−1] +Cci)\\nzi=σ(WzEyi−1+Uzsi−1+Czci)\\nri=σ(WrEyi−1+Ursi−1+Crci)\\nEis the word embedding matrix for the target language. W,W z,Wr∈Rn×m,U,Uz,Ur∈Rn×n,\\nandC,C z,Cr∈Rn×2nare weights. Again, mandnare the word embedding dimensionality\\nand the number of hidden units, respectively. The initial hidden state s0is computed by s0=\\ntanh(\\nWs← −h1)\\n,whereWs∈Rn×n.\\nThe context vector ciare recomputed at each step by the alignment model:\\nci=Tx∑\\nj=1αijhj,\\n13', start_char_idx=None, end_char_idx=None, text_template='{metadata_str}\\n\\n{content}', metadata_template='{key}: {value}', metadata_seperator='\\n'),\n",
              " Document(id_='96bd8274-6050-4182-ad89-c51f7ab0edd1', embedding=None, metadata={'page_label': '14', 'file_name': 'attention.pdf', 'file_path': '/content/data/attention.pdf', 'file_type': 'application/pdf', 'file_size': 444482, 'creation_date': '2024-04-06', 'last_modified_date': '2024-04-06'}, excluded_embed_metadata_keys=['file_name', 'file_type', 'file_size', 'creation_date', 'last_modified_date', 'last_accessed_date'], excluded_llm_metadata_keys=['file_name', 'file_type', 'file_size', 'creation_date', 'last_modified_date', 'last_accessed_date'], relationships={}, text='Published as a conference paper at ICLR 2015\\nModel Updates (×105)Epochs Hours GPU Train NLL Dev. NLL\\nRNNenc-30 8.46 6.4 109 TITAN BLACK 28.1 53.0\\nRNNenc-50 6.00 4.5 108 Quadro K-6000 44.0 43.6\\nRNNsearch-30 4.71 3.6 113 TITAN BLACK 26.7 47.2\\nRNNsearch-50 2.88 2.2 111 Quadro K-6000 40.7 38.1\\nRNNsearch-50⋆6.67 5.0 252 Quadro K-6000 36.7 35.2\\nTable 2: Learning statistics and relevant information. Each update corresponds to updating the\\nparameters once using a single minibatch. One epoch is one pass through the training set. NLL is\\nthe average conditional log-probabilities of the sentences in either the training set or the development\\nset. Note that the lengths of the sentences differ.\\nwhere\\nαij=exp (eij)∑Tx\\nk=1exp (eik)\\neij=v⊤\\natanh (Wasi−1+Uahj),\\nandhjis thej-th annotation in the source sentence (see Eq. (7)). va∈Rn′,Wa∈Rn′×nand\\nUa∈Rn′×2nare weight matrices. Note that the model becomes RNN Encoder–Decoder (Cho\\net al. , 2014a), if we ﬁx cito− →hTx.\\nWith the decoder state si−1, the context ciand the last generated word yi−1, we deﬁne the probability\\nof a target word yias\\np(yi|si,yi−1,ci)∝exp(\\ny⊤\\niWoti)\\n,\\nwhere\\nti=[\\nmax{˜ti,2j−1,˜ti,2j}]⊤\\nj=1,...,l\\nand˜ti,kis thek-th element of a vector ˜tiwhich is computed by\\n˜ti=Uosi−1+VoEyi−1+Coci.\\nWo∈RKy×l,Uo∈R2l×n,Vo∈R2l×mandCo∈R2l×2nare weight matrices. This can be under-\\nstood as having a deep output (Pascanu et al. , 2014) with a single maxout hidden layer (Goodfellow\\net al. , 2013).\\nA.2.3 M ODEL SIZE\\nFor all the models used in this paper, the size of a hidden layer nis 1000, the word embedding\\ndimensionality mis 620 and the size of the maxout hidden layer in the deep output lis 500. The\\nnumber of hidden units in the alignment model n′is 1000.\\nB T RAINING PROCEDURE\\nB.1 P ARAMETER INITIALIZATION\\nWe initialized the recurrent weight matrices U,Uz,Ur,← −U,← −Uz,← −Ur,− →U,− →Uzand− →Uras random or-\\nthogonal matrices. For WaandUa, we initialized them by sampling each element from the Gaussian\\ndistribution of mean 0and variance 0.0012. All the elements of Vaand all the bias vectors were ini-\\ntialized to zero. Any other weight matrix was initialized by sampling from the Gaussian distribution\\nof mean 0and variance 0.012.\\nB.2 T RAINING\\nWe used the stochastic gradient descent (SGD) algorithm. Adadelta (Zeiler, 2012) was used to\\nautomatically adapt the learning rate of each parameter ( ϵ= 10−6andρ= 0.95). We explicitly\\n14', start_char_idx=None, end_char_idx=None, text_template='{metadata_str}\\n\\n{content}', metadata_template='{key}: {value}', metadata_seperator='\\n'),\n",
              " Document(id_='618a479d-84cf-4811-a4f8-3f3cbca0e957', embedding=None, metadata={'page_label': '15', 'file_name': 'attention.pdf', 'file_path': '/content/data/attention.pdf', 'file_type': 'application/pdf', 'file_size': 444482, 'creation_date': '2024-04-06', 'last_modified_date': '2024-04-06'}, excluded_embed_metadata_keys=['file_name', 'file_type', 'file_size', 'creation_date', 'last_modified_date', 'last_accessed_date'], excluded_llm_metadata_keys=['file_name', 'file_type', 'file_size', 'creation_date', 'last_modified_date', 'last_accessed_date'], relationships={}, text='Published as a conference paper at ICLR 2015\\nnormalized the L2-norm of the gradient of the cost function each time to be at most a predeﬁned\\nthreshold of 1, when the norm was larger than the threshold (Pascanu et al. , 2013b). Each SGD\\nupdate direction was computed with a minibatch of 80 sentences.\\nAt each update our implementation requires time proportional to the length of the longest sentence in\\na minibatch. Hence, to minimize the waste of computation, before every 20-th update, we retrieved\\n1600 sentence pairs, sorted them according to the lengths and split them into 20 minibatches. The\\ntraining data was shufﬂed once before training and was traversed sequentially in this manner.\\nIn Tables 2 we present the statistics related to training all the models used in the experiments.\\nC T RANSLATIONS OF LONG SENTENCES\\nSource An admitting privilege is the right of a doctor to admit a patient to a hospital or a medical centre\\nto carry out a diagnosis or a procedure, based on his status as a health care worker at a hospital.\\nReference Le privil `ege d’admission est le droit d’un m ´edecin, en vertu de son statut de membre soignant\\nd’un h ˆopital, d’admettre un patient dans un h ˆopital ou un centre m ´edical aﬁn d’y d ´elivrer un\\ndiagnostic ou un traitement.\\nRNNenc-50 Un privil `ege d’admission est le droit d’un m ´edecin de reconna ˆıtre un patient `a l’h ˆopital ou un\\ncentre m ´edical d’un diagnostic ou de prendre un diagnostic en fonction de son ´etat de sant ´e.\\nRNNsearch-50 Un privil `ege d’admission est le droit d’un m ´edecin d’admettre un patient `a un h ˆopital ou un\\ncentre m ´edical pour effectuer un diagnostic ou une proc ´edure, selon son statut de travailleur des\\nsoins de sant ´e`a l’h ˆopital.\\nGoogle\\nTranslateUn privil `ege admettre est le droit d’un m ´edecin d’admettre un patient dans un h ˆopital ou un\\ncentre m ´edical pour effectuer un diagnostic ou une proc ´edure, fond ´ee sur sa situation en tant\\nque travailleur de soins de sant ´e dans un h ˆopital.\\nSource This kind of experience is part of Disney’s efforts to ”extend the lifetime of its series and build\\nnew relationships with audiences via digital platforms that are becoming ever more important,”\\nhe added.\\nReference Ce type d’exp ´erience entre dans le cadre des efforts de Disney pour ” ´etendre la dur ´ee de\\nvie de ses s ´eries et construire de nouvelles relations avec son public gr ˆace`a des plateformes\\nnum´eriques qui sont de plus en plus importantes”, a-t-il ajout ´e.\\nRNNenc-50 Ce type d’exp ´erience fait partie des initiatives du Disney pour ”prolonger la dur ´ee de vie de\\nses nouvelles et de d ´evelopper des liens avec les lecteurs num ´eriques qui deviennent plus com-\\nplexes.\\nRNNsearch-50 Ce genre d’exp ´erience fait partie des efforts de Disney pour ”prolonger la dur ´ee de vie de ses\\ns´eries et cr ´eer de nouvelles relations avec des publics via des plateformes num ´eriques de plus\\nen plus importantes”, a-t-il ajout ´e.\\nGoogle\\nTranslateCe genre d’exp ´erience fait partie des efforts de Disney `a “´etendre la dur ´ee de vie de sa s ´erie et\\nconstruire de nouvelles relations avec le public par le biais des plates-formes num ´eriques qui\\ndeviennent de plus en plus important”, at-il ajout ´e.\\nSource In a press conference on Thursday, Mr Blair stated that there was nothing in this video that might\\nconstitute a ”reasonable motive” that could lead to criminal charges being brought against the\\nmayor.\\nReference En conf ´erence de presse, jeudi, M. Blair a afﬁrm ´e qu’il n’y avait rien dans cette vid ´eo qui puisse\\nconstituer des ”motifs raisonnables” pouvant mener au d ´epˆot d’une accusation criminelle contre\\nle maire.\\nRNNenc-50 Lors de la conf ´erence de presse de jeudi, M. Blair a dit qu’il n’y avait rien dans cette vid ´eo qui\\npourrait constituer une ”motivation raisonnable” pouvant entra ˆıner des accusations criminelles\\nport´ees contre le maire.\\nRNNsearch-50 Lors d’une conf ´erence de presse jeudi, M. Blair a d ´eclar ´e qu’il n’y avait rien dans cette vid ´eo qui\\npourrait constituer un ”motif raisonnable” qui pourrait conduire `a des accusations criminelles\\ncontre le maire.\\nGoogle\\nTranslateLors d’une conf ´erence de presse jeudi, M. Blair a d ´eclar ´e qu’il n’y avait rien dans cette vido\\nqui pourrait constituer un ”motif raisonnable” qui pourrait mener `a des accusations criminelles\\nportes contre le maire.\\nTable 3: The translations generated by RNNenc-50 and RNNsearch-50 from long source sentences\\n(30 words or more) selected from the test set. For each source sentence, we also show the gold-\\nstandard translation. The translations by Google Translate were made on 27 August 2014.\\n15', start_char_idx=None, end_char_idx=None, text_template='{metadata_str}\\n\\n{content}', metadata_template='{key}: {value}', metadata_seperator='\\n'),\n",
              " Document(id_='e064fb10-f3a9-4663-8f71-d6a94d50ee3a', embedding=None, metadata={'page_label': '1', 'file_name': 'yolo.pdf', 'file_path': '/content/data/yolo.pdf', 'file_type': 'application/pdf', 'file_size': 5296750, 'creation_date': '2024-04-06', 'last_modified_date': '2024-04-06'}, excluded_embed_metadata_keys=['file_name', 'file_type', 'file_size', 'creation_date', 'last_modified_date', 'last_accessed_date'], excluded_llm_metadata_keys=['file_name', 'file_type', 'file_size', 'creation_date', 'last_modified_date', 'last_accessed_date'], relationships={}, text='You Only Look Once:\\nUniﬁed, Real-Time Object Detection\\nJoseph Redmon∗, Santosh Divvala∗†, Ross Girshick¶, Ali Farhadi∗†\\nUniversity of Washington∗, Allen Institute for AI†, Facebook AI Research¶\\nhttp://pjreddie.com/yolo/\\nAbstract\\nWe present YOLO, a new approach to object detection.\\nPrior work on object detection repurposes classiﬁers to per-\\nform detection. Instead, we frame object detection as a re-\\ngression problem to spatially separated bounding boxes and\\nassociated class probabilities. A single neural network pre-\\ndicts bounding boxes and class probabilities directly from\\nfull images in one evaluation. Since the whole detection\\npipeline is a single network, it can be optimized end-to-end\\ndirectly on detection performance.\\nOur uniﬁed architecture is extremely fast. Our base\\nYOLO model processes images in real-time at 45 frames\\nper second. A smaller version of the network, Fast YOLO,\\nprocesses an astounding 155 frames per second while\\nstill achieving double the mAP of other real-time detec-\\ntors. Compared to state-of-the-art detection systems, YOLO\\nmakes more localization errors but is less likely to predict\\nfalse positives on background. Finally, YOLO learns very\\ngeneral representations of objects. It outperforms other de-\\ntection methods, including DPM and R-CNN, when gener-\\nalizing from natural images to other domains like artwork.\\n1. Introduction\\nHumans glance at an image and instantly know what ob-\\njects are in the image, where they are, and how they inter-\\nact. The human visual system is fast and accurate, allow-\\ning us to perform complex tasks like driving with little con-\\nscious thought. Fast, accurate algorithms for object detec-\\ntion would allow computers to drive cars without special-\\nized sensors, enable assistive devices to convey real-time\\nscene information to human users, and unlock the potential\\nfor general purpose, responsive robotic systems.\\nCurrent detection systems repurpose classiﬁers to per-\\nform detection. To detect an object, these systems take a\\nclassiﬁer for that object and evaluate it at various locations\\nand scales in a test image. Systems like deformable parts\\nmodels (DPM) use a sliding window approach where the\\nclassiﬁer is run at evenly spaced locations over the entire\\nimage [10].\\nMore recent approaches like R-CNN use region proposal\\n1. Resize image.\\n2. Run convolutional network.3. Non-max suppression.\\nDog: 0.30Person: 0.64Horse: 0.28Figure 1: The YOLO Detection System. Processing images\\nwith YOLO is simple and straightforward. Our system (1) resizes\\nthe input image to 448×448, (2) runs a single convolutional net-\\nwork on the image, and (3) thresholds the resulting detections by\\nthe model’s conﬁdence.\\nmethods to ﬁrst generate potential bounding boxes in an im-\\nage and then run a classiﬁer on these proposed boxes. After\\nclassiﬁcation, post-processing is used to reﬁne the bound-\\ning boxes, eliminate duplicate detections, and rescore the\\nboxes based on other objects in the scene [13]. These com-\\nplex pipelines are slow and hard to optimize because each\\nindividual component must be trained separately.\\nWe reframe object detection as a single regression prob-\\nlem, straight from image pixels to bounding box coordi-\\nnates and class probabilities. Using our system, you only\\nlook once (YOLO) at an image to predict what objects are\\npresent and where they are.\\nYOLO is refreshingly simple: see Figure 1. A sin-\\ngle convolutional network simultaneously predicts multi-\\nple bounding boxes and class probabilities for those boxes.\\nYOLO trains on full images and directly optimizes detec-\\ntion performance. This uniﬁed model has several beneﬁts\\nover traditional methods of object detection.\\nFirst, YOLO is extremely fast. Since we frame detection\\nas a regression problem we don’t need a complex pipeline.\\nWe simply run our neural network on a new image at test\\ntime to predict detections. Our base network runs at 45\\nframes per second with no batch processing on a Titan X\\nGPU and a fast version runs at more than 150 fps. This\\nmeans we can process streaming video in real-time with\\nless than 25 milliseconds of latency. Furthermore, YOLO\\nachieves more than twice the mean average precision of\\nother real-time systems. For a demo of our system running\\nin real-time on a webcam please see our project webpage:\\nhttp://pjreddie.com/yolo/ .\\nSecond, YOLO reasons globally about the image when\\n1arXiv:1506.02640v5  [cs.CV]  9 May 2016', start_char_idx=None, end_char_idx=None, text_template='{metadata_str}\\n\\n{content}', metadata_template='{key}: {value}', metadata_seperator='\\n'),\n",
              " Document(id_='356af012-e22e-47d5-a197-952a8ed63502', embedding=None, metadata={'page_label': '2', 'file_name': 'yolo.pdf', 'file_path': '/content/data/yolo.pdf', 'file_type': 'application/pdf', 'file_size': 5296750, 'creation_date': '2024-04-06', 'last_modified_date': '2024-04-06'}, excluded_embed_metadata_keys=['file_name', 'file_type', 'file_size', 'creation_date', 'last_modified_date', 'last_accessed_date'], excluded_llm_metadata_keys=['file_name', 'file_type', 'file_size', 'creation_date', 'last_modified_date', 'last_accessed_date'], relationships={}, text='making predictions. Unlike sliding window and region\\nproposal-based techniques, YOLO sees the entire image\\nduring training and test time so it implicitly encodes contex-\\ntual information about classes as well as their appearance.\\nFast R-CNN, a top detection method [14], mistakes back-\\nground patches in an image for objects because it can’t see\\nthe larger context. YOLO makes less than half the number\\nof background errors compared to Fast R-CNN.\\nThird, YOLO learns generalizable representations of ob-\\njects. When trained on natural images and tested on art-\\nwork, YOLO outperforms top detection methods like DPM\\nand R-CNN by a wide margin. Since YOLO is highly gen-\\neralizable it is less likely to break down when applied to\\nnew domains or unexpected inputs.\\nYOLO still lags behind state-of-the-art detection systems\\nin accuracy. While it can quickly identify objects in im-\\nages it struggles to precisely localize some objects, espe-\\ncially small ones. We examine these tradeoffs further in our\\nexperiments.\\nAll of our training and testing code is open source. A\\nvariety of pretrained models are also available to download.\\n2. Uniﬁed Detection\\nWe unify the separate components of object detection\\ninto a single neural network. Our network uses features\\nfrom the entire image to predict each bounding box. It also\\npredicts all bounding boxes across all classes for an im-\\nage simultaneously. This means our network reasons glob-\\nally about the full image and all the objects in the image.\\nThe YOLO design enables end-to-end training and real-\\ntime speeds while maintaining high average precision.\\nOur system divides the input image into an S×Sgrid.\\nIf the center of an object falls into a grid cell, that grid cell\\nis responsible for detecting that object.\\nEach grid cell predicts Bbounding boxes and conﬁdence\\nscores for those boxes. These conﬁdence scores reﬂect how\\nconﬁdent the model is that the box contains an object and\\nalso how accurate it thinks the box is that it predicts. For-\\nmally we deﬁne conﬁdence as Pr(Object )∗IOUtruth\\npred. If no\\nobject exists in that cell, the conﬁdence scores should be\\nzero. Otherwise we want the conﬁdence score to equal the\\nintersection over union (IOU) between the predicted box\\nand the ground truth.\\nEach bounding box consists of 5 predictions: x,y,w,h,\\nand conﬁdence. The (x,y)coordinates represent the center\\nof the box relative to the bounds of the grid cell. The width\\nand height are predicted relative to the whole image. Finally\\nthe conﬁdence prediction represents the IOU between the\\npredicted box and any ground truth box.\\nEach grid cell also predicts Cconditional class proba-\\nbilities, Pr(Classi|Object ). These probabilities are condi-\\ntioned on the grid cell containing an object. We only predictone set of class probabilities per grid cell, regardless of the\\nnumber of boxes B.\\nAt test time we multiply the conditional class probabili-\\nties and the individual box conﬁdence predictions,\\nPr(Classi|Object )∗Pr(Object )∗IOUtruth\\npred= Pr( Classi)∗IOUtruth\\npred(1)\\nwhich gives us class-speciﬁc conﬁdence scores for each\\nbox. These scores encode both the probability of that class\\nappearing in the box and how well the predicted box ﬁts the\\nobject.\\nS × S grid on inputBounding boxes + confidence\\nClass probability mapFinal detections\\nFigure 2: The Model. Our system models detection as a regres-\\nsion problem. It divides the image into an S×Sgrid and for each\\ngrid cell predicts Bbounding boxes, conﬁdence for those boxes,\\nandCclass probabilities. These predictions are encoded as an\\nS×S×(B∗5 +C)tensor.\\nFor evaluating YOLO on P ASCAL VOC, we use S= 7,\\nB= 2. PASCAL VOC has 20 labelled classes so C= 20 .\\nOur ﬁnal prediction is a 7×7×30tensor.\\n2.1. Network Design\\nWe implement this model as a convolutional neural net-\\nwork and evaluate it on the P ASCAL VOC detection dataset\\n[9]. The initial convolutional layers of the network extract\\nfeatures from the image while the fully connected layers\\npredict the output probabilities and coordinates.\\nOur network architecture is inspired by the GoogLeNet\\nmodel for image classiﬁcation [34]. Our network has 24\\nconvolutional layers followed by 2 fully connected layers.\\nInstead of the inception modules used by GoogLeNet, we\\nsimply use 1×1reduction layers followed by 3×3convo-\\nlutional layers, similar to Lin et al [22]. The full network is\\nshown in Figure 3.\\nWe also train a fast version of YOLO designed to push\\nthe boundaries of fast object detection. Fast YOLO uses a\\nneural network with fewer convolutional layers (9 instead\\nof 24) and fewer ﬁlters in those layers. Other than the size\\nof the network, all training and testing parameters are the\\nsame between YOLO and Fast YOLO.', start_char_idx=None, end_char_idx=None, text_template='{metadata_str}\\n\\n{content}', metadata_template='{key}: {value}', metadata_seperator='\\n'),\n",
              " Document(id_='a2154799-4423-48c6-9f1e-dd1ecaa36a66', embedding=None, metadata={'page_label': '3', 'file_name': 'yolo.pdf', 'file_path': '/content/data/yolo.pdf', 'file_type': 'application/pdf', 'file_size': 5296750, 'creation_date': '2024-04-06', 'last_modified_date': '2024-04-06'}, excluded_embed_metadata_keys=['file_name', 'file_type', 'file_size', 'creation_date', 'last_modified_date', 'last_accessed_date'], excluded_llm_metadata_keys=['file_name', 'file_type', 'file_size', 'creation_date', 'last_modified_date', 'last_accessed_date'], relationships={}, text='448\\n448\\n3\\n7\\n7\\nConv. Layer\\n7x7x64-s-2\\nMaxpool Layer\\n2x2-s-2\\n3\\n3112\\n112\\n192\\n3\\n356\\n56\\n256\\nConn. Layer4096\\nConn. Layer Conv. Layer\\n3x3x192\\nMaxpool Layer\\n2x2-s-2Conv. Layers\\n1x1x128\\n3x3x256\\n1x1x256\\n3x3x512\\nMaxpool Layer\\n2x2-s-2\\n3\\n328\\n28\\n512\\nConv. Layers\\n1x1x256\\n3x3x5121x1x512\\n3x3x1024\\nMaxpool Layer\\n2x2-s-2\\n3\\n314\\n14\\n1024\\nConv. Layers\\n1x1x512\\n3x3x10243x3x1024\\n3x3x1024-s-2\\n3\\n37\\n7\\n10247\\n7\\n10247\\n7\\n30\\n} ×4 } ×2Conv. Layers\\n3x3x1024\\n3x3x1024Figure 3: The Architecture. Our detection network has 24 convolutional layers followed by 2 fully connected layers. Alternating 1×1\\nconvolutional layers reduce the features space from preceding layers. We pretrain the convolutional layers on the ImageNet classiﬁcation\\ntask at half the resolution ( 224×224input image) and then double the resolution for detection.\\nThe ﬁnal output of our network is the 7×7×30tensor\\nof predictions.\\n2.2. Training\\nWe pretrain our convolutional layers on the ImageNet\\n1000-class competition dataset [30]. For pretraining we use\\nthe ﬁrst 20 convolutional layers from Figure 3 followed by a\\naverage-pooling layer and a fully connected layer. We train\\nthis network for approximately a week and achieve a single\\ncrop top-5 accuracy of 88% on the ImageNet 2012 valida-\\ntion set, comparable to the GoogLeNet models in Caffe’s\\nModel Zoo [24]. We use the Darknet framework for all\\ntraining and inference [26].\\nWe then convert the model to perform detection. Ren et\\nal. show that adding both convolutional and connected lay-\\ners to pretrained networks can improve performance [29].\\nFollowing their example, we add four convolutional lay-\\ners and two fully connected layers with randomly initialized\\nweights. Detection often requires ﬁne-grained visual infor-\\nmation so we increase the input resolution of the network\\nfrom 224×224to448×448.\\nOur ﬁnal layer predicts both class probabilities and\\nbounding box coordinates. We normalize the bounding box\\nwidth and height by the image width and height so that they\\nfall between 0 and 1. We parametrize the bounding box x\\nandycoordinates to be offsets of a particular grid cell loca-\\ntion so they are also bounded between 0 and 1.\\nWe use a linear activation function for the ﬁnal layer and\\nall other layers use the following leaky rectiﬁed linear acti-\\nvation:\\nφ(x) ={\\nx, ifx>0\\n0.1x,otherwise(2)\\nWe optimize for sum-squared error in the output of ourmodel. We use sum-squared error because it is easy to op-\\ntimize, however it does not perfectly align with our goal of\\nmaximizing average precision. It weights localization er-\\nror equally with classiﬁcation error which may not be ideal.\\nAlso, in every image many grid cells do not contain any\\nobject. This pushes the “conﬁdence” scores of those cells\\ntowards zero, often overpowering the gradient from cells\\nthat do contain objects. This can lead to model instability,\\ncausing training to diverge early on.\\nTo remedy this, we increase the loss from bounding box\\ncoordinate predictions and decrease the loss from conﬁ-\\ndence predictions for boxes that don’t contain objects. We\\nuse two parameters, λcoordandλnoobjto accomplish this. We\\nsetλcoord= 5andλnoobj=.5.\\nSum-squared error also equally weights errors in large\\nboxes and small boxes. Our error metric should reﬂect that\\nsmall deviations in large boxes matter less than in small\\nboxes. To partially address this we predict the square root\\nof the bounding box width and height instead of the width\\nand height directly.\\nYOLO predicts multiple bounding boxes per grid cell.\\nAt training time we only want one bounding box predictor\\nto be responsible for each object. We assign one predictor\\nto be “responsible” for predicting an object based on which\\nprediction has the highest current IOU with the ground\\ntruth. This leads to specialization between the bounding box\\npredictors. Each predictor gets better at predicting certain\\nsizes, aspect ratios, or classes of object, improving overall\\nrecall.\\nDuring training we optimize the following, multi-part', start_char_idx=None, end_char_idx=None, text_template='{metadata_str}\\n\\n{content}', metadata_template='{key}: {value}', metadata_seperator='\\n'),\n",
              " Document(id_='d655f265-eea5-4b0a-903b-0640be01b5e8', embedding=None, metadata={'page_label': '4', 'file_name': 'yolo.pdf', 'file_path': '/content/data/yolo.pdf', 'file_type': 'application/pdf', 'file_size': 5296750, 'creation_date': '2024-04-06', 'last_modified_date': '2024-04-06'}, excluded_embed_metadata_keys=['file_name', 'file_type', 'file_size', 'creation_date', 'last_modified_date', 'last_accessed_date'], excluded_llm_metadata_keys=['file_name', 'file_type', 'file_size', 'creation_date', 'last_modified_date', 'last_accessed_date'], relationships={}, text='loss function:\\nλcoordS2∑\\ni=0B∑\\nj=01obj\\nij[\\n(xi−ˆxi)2+ (yi−ˆyi)2]\\n+λcoordS2∑\\ni=0B∑\\nj=01obj\\nij[(√wi−√\\nˆwi)2+(√\\nhi−√\\nˆhi)2]\\n+S2∑\\ni=0B∑\\nj=01obj\\nij(\\nCi−ˆCi)2\\n+λnoobjS2∑\\ni=0B∑\\nj=01noobj\\nij(\\nCi−ˆCi)2\\n+S2∑\\ni=01obj\\ni∑\\nc∈classes(pi(c)−ˆpi(c))2(3)\\nwhere 1obj\\nidenotes if object appears in cell iand 1obj\\nijde-\\nnotes that the jth bounding box predictor in cell iis “re-\\nsponsible” for that prediction.\\nNote that the loss function only penalizes classiﬁcation\\nerror if an object is present in that grid cell (hence the con-\\nditional class probability discussed earlier). It also only pe-\\nnalizes bounding box coordinate error if that predictor is\\n“responsible” for the ground truth box (i.e. has the highest\\nIOU of any predictor in that grid cell).\\nWe train the network for about 135 epochs on the train-\\ning and validation data sets from P ASCAL VOC 2007 and\\n2012. When testing on 2012 we also include the VOC 2007\\ntest data for training. Throughout training we use a batch\\nsize of 64, a momentum of 0.9and a decay of 0.0005 .\\nOur learning rate schedule is as follows: For the ﬁrst\\nepochs we slowly raise the learning rate from 10−3to10−2.\\nIf we start at a high learning rate our model often diverges\\ndue to unstable gradients. We continue training with 10−2\\nfor 75 epochs, then 10−3for 30 epochs, and ﬁnally 10−4\\nfor 30 epochs.\\nTo avoid overﬁtting we use dropout and extensive data\\naugmentation. A dropout layer with rate = .5 after the ﬁrst\\nconnected layer prevents co-adaptation between layers [18].\\nFor data augmentation we introduce random scaling and\\ntranslations of up to 20% of the original image size. We\\nalso randomly adjust the exposure and saturation of the im-\\nage by up to a factor of 1.5in the HSV color space.\\n2.3. Inference\\nJust like in training, predicting detections for a test image\\nonly requires one network evaluation. On P ASCAL VOC the\\nnetwork predicts 98 bounding boxes per image and class\\nprobabilities for each box. YOLO is extremely fast at test\\ntime since it only requires a single network evaluation, un-\\nlike classiﬁer-based methods.\\nThe grid design enforces spatial diversity in the bound-\\ning box predictions. Often it is clear which grid cell an\\nobject falls in to and the network only predicts one box for\\neach object. However, some large objects or objects nearthe border of multiple cells can be well localized by multi-\\nple cells. Non-maximal suppression can be used to ﬁx these\\nmultiple detections. While not critical to performance as it\\nis for R-CNN or DPM, non-maximal suppression adds 2-\\n3% in mAP.\\n2.4. Limitations of YOLO\\nYOLO imposes strong spatial constraints on bounding\\nbox predictions since each grid cell only predicts two boxes\\nand can only have one class. This spatial constraint lim-\\nits the number of nearby objects that our model can pre-\\ndict. Our model struggles with small objects that appear in\\ngroups, such as ﬂocks of birds.\\nSince our model learns to predict bounding boxes from\\ndata, it struggles to generalize to objects in new or unusual\\naspect ratios or conﬁgurations. Our model also uses rela-\\ntively coarse features for predicting bounding boxes since\\nour architecture has multiple downsampling layers from the\\ninput image.\\nFinally, while we train on a loss function that approxi-\\nmates detection performance, our loss function treats errors\\nthe same in small bounding boxes versus large bounding\\nboxes. A small error in a large box is generally benign but a\\nsmall error in a small box has a much greater effect on IOU.\\nOur main source of error is incorrect localizations.\\n3. Comparison to Other Detection Systems\\nObject detection is a core problem in computer vision.\\nDetection pipelines generally start by extracting a set of\\nrobust features from input images (Haar [25], SIFT [23],\\nHOG [4], convolutional features [6]). Then, classiﬁers\\n[36, 21, 13, 10] or localizers [1, 32] are used to identify\\nobjects in the feature space. These classiﬁers or localizers\\nare run either in sliding window fashion over the whole im-\\nage or on some subset of regions in the image [35, 15, 39].\\nWe compare the YOLO detection system to several top de-\\ntection frameworks, highlighting key similarities and differ-\\nences.\\nDeformable parts models. Deformable parts models\\n(DPM) use a sliding window approach to object detection\\n[10]. DPM uses a disjoint pipeline to extract static features,\\nclassify regions, predict bounding boxes for high scoring\\nregions, etc. Our system replaces all of these disparate parts\\nwith a single convolutional neural network. The network\\nperforms feature extraction, bounding box prediction, non-\\nmaximal suppression, and contextual reasoning all concur-\\nrently. Instead of static features, the network trains the fea-\\ntures in-line and optimizes them for the detection task. Our\\nuniﬁed architecture leads to a faster, more accurate model\\nthan DPM.\\nR-CNN. R-CNN and its variants use region proposals in-\\nstead of sliding windows to ﬁnd objects in images. Selective', start_char_idx=None, end_char_idx=None, text_template='{metadata_str}\\n\\n{content}', metadata_template='{key}: {value}', metadata_seperator='\\n'),\n",
              " Document(id_='c5c2db16-e713-41aa-84f8-b8f974330fd4', embedding=None, metadata={'page_label': '5', 'file_name': 'yolo.pdf', 'file_path': '/content/data/yolo.pdf', 'file_type': 'application/pdf', 'file_size': 5296750, 'creation_date': '2024-04-06', 'last_modified_date': '2024-04-06'}, excluded_embed_metadata_keys=['file_name', 'file_type', 'file_size', 'creation_date', 'last_modified_date', 'last_accessed_date'], excluded_llm_metadata_keys=['file_name', 'file_type', 'file_size', 'creation_date', 'last_modified_date', 'last_accessed_date'], relationships={}, text='Search [35] generates potential bounding boxes, a convolu-\\ntional network extracts features, an SVM scores the boxes, a\\nlinear model adjusts the bounding boxes, and non-max sup-\\npression eliminates duplicate detections. Each stage of this\\ncomplex pipeline must be precisely tuned independently\\nand the resulting system is very slow, taking more than 40\\nseconds per image at test time [14].\\nYOLO shares some similarities with R-CNN. Each grid\\ncell proposes potential bounding boxes and scores those\\nboxes using convolutional features. However, our system\\nputs spatial constraints on the grid cell proposals which\\nhelps mitigate multiple detections of the same object. Our\\nsystem also proposes far fewer bounding boxes, only 98\\nper image compared to about 2000 from Selective Search.\\nFinally, our system combines these individual components\\ninto a single, jointly optimized model.\\nOther Fast Detectors Fast and Faster R-CNN focus on\\nspeeding up the R-CNN framework by sharing computa-\\ntion and using neural networks to propose regions instead\\nof Selective Search [14] [28]. While they offer speed and\\naccuracy improvements over R-CNN, both still fall short of\\nreal-time performance.\\nMany research efforts focus on speeding up the DPM\\npipeline [31] [38] [5]. They speed up HOG computation,\\nuse cascades, and push computation to GPUs. However,\\nonly 30Hz DPM [31] actually runs in real-time.\\nInstead of trying to optimize individual components of\\na large detection pipeline, YOLO throws out the pipeline\\nentirely and is fast by design.\\nDetectors for single classes like faces or people can be\\nhighly optimized since they have to deal with much less\\nvariation [37]. YOLO is a general purpose detector that\\nlearns to detect a variety of objects simultaneously.\\nDeep MultiBox. Unlike R-CNN, Szegedy et al. train a\\nconvolutional neural network to predict regions of interest\\n[8] instead of using Selective Search. MultiBox can also\\nperform single object detection by replacing the conﬁdence\\nprediction with a single class prediction. However, Multi-\\nBox cannot perform general object detection and is still just\\na piece in a larger detection pipeline, requiring further im-\\nage patch classiﬁcation. Both YOLO and MultiBox use a\\nconvolutional network to predict bounding boxes in an im-\\nage but YOLO is a complete detection system.\\nOverFeat. Sermanet et al. train a convolutional neural\\nnetwork to perform localization and adapt that localizer to\\nperform detection [32]. OverFeat efﬁciently performs slid-\\ning window detection but it is still a disjoint system. Over-\\nFeat optimizes for localization, not detection performance.\\nLike DPM, the localizer only sees local information when\\nmaking a prediction. OverFeat cannot reason about global\\ncontext and thus requires signiﬁcant post-processing to pro-\\nduce coherent detections.\\nMultiGrasp. Our work is similar in design to work ongrasp detection by Redmon et al [27]. Our grid approach to\\nbounding box prediction is based on the MultiGrasp system\\nfor regression to grasps. However, grasp detection is a much\\nsimpler task than object detection. MultiGrasp only needs\\nto predict a single graspable region for an image containing\\none object. It doesn’t have to estimate the size, location,\\nor boundaries of the object or predict it’s class, only ﬁnd a\\nregion suitable for grasping. YOLO predicts both bounding\\nboxes and class probabilities for multiple objects of multi-\\nple classes in an image.\\n4. Experiments\\nFirst we compare YOLO with other real-time detection\\nsystems on P ASCAL VOC 2007. To understand the differ-\\nences between YOLO and R-CNN variants we explore the\\nerrors on VOC 2007 made by YOLO and Fast R-CNN, one\\nof the highest performing versions of R-CNN [14]. Based\\non the different error proﬁles we show that YOLO can be\\nused to rescore Fast R-CNN detections and reduce the er-\\nrors from background false positives, giving a signiﬁcant\\nperformance boost. We also present VOC 2012 results and\\ncompare mAP to current state-of-the-art methods. Finally,\\nwe show that YOLO generalizes to new domains better than\\nother detectors on two artwork datasets.\\n4.1. Comparison to Other Real-Time Systems\\nMany research efforts in object detection focus on mak-\\ning standard detection pipelines fast. [5] [38] [31] [14] [17]\\n[28] However, only Sadeghi et al. actually produce a de-\\ntection system that runs in real-time (30 frames per second\\nor better) [31]. We compare YOLO to their GPU imple-\\nmentation of DPM which runs either at 30Hz or 100Hz.\\nWhile the other efforts don’t reach the real-time milestone\\nwe also compare their relative mAP and speed to examine\\nthe accuracy-performance tradeoffs available in object de-\\ntection systems.\\nFast YOLO is the fastest object detection method on\\nPASCAL ; as far as we know, it is the fastest extant object\\ndetector. With 52.7%mAP, it is more than twice as accurate\\nas prior work on real-time detection. YOLO pushes mAP to\\n63.4%while still maintaining real-time performance.\\nWe also train YOLO using VGG-16. This model is more\\naccurate but also signiﬁcantly slower than YOLO. It is use-\\nful for comparison to other detection systems that rely on\\nVGG-16 but since it is slower than real-time the rest of the\\npaper focuses on our faster models.\\nFastest DPM effectively speeds up DPM without sacri-\\nﬁcing much mAP but it still misses real-time performance\\nby a factor of 2 [38]. It also is limited by DPM’s relatively\\nlow accuracy on detection compared to neural network ap-\\nproaches.\\nR-CNN minus R replaces Selective Search with static\\nbounding box proposals [20]. While it is much faster than', start_char_idx=None, end_char_idx=None, text_template='{metadata_str}\\n\\n{content}', metadata_template='{key}: {value}', metadata_seperator='\\n'),\n",
              " Document(id_='967fb449-4929-4c4c-abdf-47d99c9c5d64', embedding=None, metadata={'page_label': '6', 'file_name': 'yolo.pdf', 'file_path': '/content/data/yolo.pdf', 'file_type': 'application/pdf', 'file_size': 5296750, 'creation_date': '2024-04-06', 'last_modified_date': '2024-04-06'}, excluded_embed_metadata_keys=['file_name', 'file_type', 'file_size', 'creation_date', 'last_modified_date', 'last_accessed_date'], excluded_llm_metadata_keys=['file_name', 'file_type', 'file_size', 'creation_date', 'last_modified_date', 'last_accessed_date'], relationships={}, text='Real-Time Detectors Train mAP FPS\\n100Hz DPM [31] 2007 16.0 100\\n30Hz DPM [31] 2007 26.1 30\\nFast YOLO 2007+2012 52.7 155\\nYOLO 2007+2012 63.4 45\\nLess Than Real-Time\\nFastest DPM [38] 2007 30.4 15\\nR-CNN Minus R [20] 2007 53.5 6\\nFast R-CNN [14] 2007+2012 70.0 0.5\\nFaster R-CNN VGG-16[28] 2007+2012 73.2 7\\nFaster R-CNN ZF [28] 2007+2012 62.1 18\\nYOLO VGG-16 2007+2012 66.4 21\\nTable 1: Real-Time Systems on P ASCAL VOC 2007. Compar-\\ning the performance and speed of fast detectors. Fast YOLO is\\nthe fastest detector on record for P ASCAL VOC detection and is\\nstill twice as accurate as any other real-time detector. YOLO is\\n10 mAP more accurate than the fast version while still well above\\nreal-time in speed.\\nR-CNN, it still falls short of real-time and takes a signiﬁcant\\naccuracy hit from not having good proposals.\\nFast R-CNN speeds up the classiﬁcation stage of R-CNN\\nbut it still relies on selective search which can take around\\n2 seconds per image to generate bounding box proposals.\\nThus it has high mAP but at 0.5fps it is still far from real-\\ntime.\\nThe recent Faster R-CNN replaces selective search with\\na neural network to propose bounding boxes, similar to\\nSzegedy et al. [8] In our tests, their most accurate model\\nachieves 7 fps while a smaller, less accurate one runs at\\n18 fps. The VGG-16 version of Faster R-CNN is 10 mAP\\nhigher but is also 6 times slower than YOLO. The Zeiler-\\nFergus Faster R-CNN is only 2.5 times slower than YOLO\\nbut is also less accurate.\\n4.2. VOC 2007 Error Analysis\\nTo further examine the differences between YOLO and\\nstate-of-the-art detectors, we look at a detailed breakdown\\nof results on VOC 2007. We compare YOLO to Fast R-\\nCNN since Fast R-CNN is one of the highest performing\\ndetectors on P ASCAL and it’s detections are publicly avail-\\nable.\\nWe use the methodology and tools of Hoiem et al. [19]\\nFor each category at test time we look at the top N predic-\\ntions for that category. Each prediction is either correct or\\nit is classiﬁed based on the type of error:\\n•Correct: correct class and IOU >.5\\n•Localization: correct class, .1<IOU<.5\\n•Similar: class is similar, IOU >.1\\nCorrect: 71.6% Correct: 65.5%Loc: 8.6%Sim: 4.3%Other: 1.9%Background: 13.6%\\nLoc: 19.0%Sim: 6.75%Other: 4.0%Background: 4.75%Fast R-CNN YOLOFigure 4: Error Analysis: Fast R-CNN vs. YOLO These\\ncharts show the percentage of localization and background errors\\nin the top N detections for various categories (N = # objects in that\\ncategory).\\n•Other: class is wrong, IOU >.1\\n•Background: IOU <.1for any object\\nFigure 4 shows the breakdown of each error type aver-\\naged across all 20 classes.\\nYOLO struggles to localize objects correctly. Localiza-\\ntion errors account for more of YOLO’s errors than all other\\nsources combined. Fast R-CNN makes much fewer local-\\nization errors but far more background errors. 13.6% of\\nit’s top detections are false positives that don’t contain any\\nobjects. Fast R-CNN is almost 3x more likely to predict\\nbackground detections than YOLO.\\n4.3. Combining Fast R-CNN and YOLO\\nYOLO makes far fewer background mistakes than Fast\\nR-CNN. By using YOLO to eliminate background detec-\\ntions from Fast R-CNN we get a signiﬁcant boost in perfor-\\nmance. For every bounding box that R-CNN predicts we\\ncheck to see if YOLO predicts a similar box. If it does, we\\ngive that prediction a boost based on the probability pre-\\ndicted by YOLO and the overlap between the two boxes.\\nThe best Fast R-CNN model achieves a mAP of 71.8%\\non the VOC 2007 test set. When combined with YOLO, its\\nmAP Combined Gain\\nFast R-CNN 71.8 - -\\nFast R-CNN (2007 data) 66.9 72.4 .6\\nFast R-CNN (VGG-M) 59.2 72.4 .6\\nFast R-CNN (CaffeNet) 57.1 72.1 .3\\nYOLO 63.4 75.0 3.2\\nTable 2: Model combination experiments on VOC 2007. We\\nexamine the effect of combining various models with the best ver-\\nsion of Fast R-CNN. Other versions of Fast R-CNN provide only\\na small beneﬁt while YOLO provides a signiﬁcant performance\\nboost.', start_char_idx=None, end_char_idx=None, text_template='{metadata_str}\\n\\n{content}', metadata_template='{key}: {value}', metadata_seperator='\\n'),\n",
              " Document(id_='16cd33ff-4ca7-46cb-8277-b0654b8635de', embedding=None, metadata={'page_label': '7', 'file_name': 'yolo.pdf', 'file_path': '/content/data/yolo.pdf', 'file_type': 'application/pdf', 'file_size': 5296750, 'creation_date': '2024-04-06', 'last_modified_date': '2024-04-06'}, excluded_embed_metadata_keys=['file_name', 'file_type', 'file_size', 'creation_date', 'last_modified_date', 'last_accessed_date'], excluded_llm_metadata_keys=['file_name', 'file_type', 'file_size', 'creation_date', 'last_modified_date', 'last_accessed_date'], relationships={}, text='VOC 2012 test mAP aero bike bird boat bottle bus car cat chair cow table dog horse mbike personplant sheep sofa train tv\\nMR CNN MORE DATA [11] 73.9 85.5 82.9 76.6 57.8 62.7 79.4 77.2 86.6 55.0 79.1 62.2 87.0 83.4 84.7 78.9 45.3 73.4 65.8 80.3 74.0\\nHyperNet VGG 71.4 84.2 78.5 73.6 55.6 53.7 78.7 79.8 87.7 49.6 74.9 52.1 86.0 81.7 83.3 81.8 48.6 73.5 59.4 79.9 65.7\\nHyperNet SP 71.3 84.1 78.3 73.3 55.5 53.6 78.6 79.6 87.5 49.5 74.9 52.1 85.6 81.6 83.2 81.6 48.4 73.2 59.3 79.7 65.6\\nFast R-CNN + YOLO 70.7 83.4 78.5 73.5 55.8 43.4 79.1 73.1 89.4 49.4 75.5 57.0 87.5 80.9 81.0 74.7 41.8 71.5 68.5 82.1 67.2\\nMR CNN SCNN [11] 70.7 85.0 79.6 71.5 55.3 57.7 76.0 73.9 84.6 50.5 74.3 61.7 85.5 79.9 81.7 76.4 41.0 69.0 61.2 77.7 72.1\\nFaster R-CNN [28] 70.4 84.9 79.8 74.3 53.9 49.8 77.5 75.9 88.5 45.6 77.1 55.3 86.9 81.7 80.9 79.6 40.1 72.6 60.9 81.2 61.5\\nDEEP ENS COCO 70.1 84.0 79.4 71.6 51.9 51.1 74.1 72.1 88.6 48.3 73.4 57.8 86.1 80.0 80.7 70.4 46.6 69.6 68.8 75.9 71.4\\nNoC [29] 68.8 82.8 79.0 71.6 52.3 53.7 74.1 69.0 84.9 46.9 74.3 53.1 85.0 81.3 79.5 72.2 38.9 72.4 59.5 76.7 68.1\\nFast R-CNN [14] 68.4 82.3 78.4 70.8 52.3 38.7 77.8 71.6 89.3 44.2 73.0 55.0 87.5 80.5 80.8 72.0 35.1 68.3 65.7 80.4 64.2\\nUMICH FGS STRUCT 66.4 82.9 76.1 64.1 44.6 49.4 70.3 71.2 84.6 42.7 68.6 55.8 82.7 77.1 79.9 68.7 41.4 69.0 60.0 72.0 66.2\\nNUS NIN C2000 [7] 63.8 80.2 73.8 61.9 43.7 43.0 70.3 67.6 80.7 41.9 69.7 51.7 78.2 75.2 76.9 65.1 38.6 68.3 58.0 68.7 63.3\\nBabyLearning [7] 63.2 78.0 74.2 61.3 45.7 42.7 68.2 66.8 80.2 40.6 70.0 49.8 79.0 74.5 77.9 64.0 35.3 67.9 55.7 68.7 62.6\\nNUS NIN 62.4 77.9 73.1 62.6 39.5 43.3 69.1 66.4 78.9 39.1 68.1 50.0 77.2 71.3 76.1 64.7 38.4 66.9 56.2 66.9 62.7\\nR-CNN VGG BB [13] 62.4 79.6 72.7 61.9 41.2 41.9 65.9 66.4 84.6 38.5 67.2 46.7 82.0 74.8 76.0 65.2 35.6 65.4 54.2 67.4 60.3\\nR-CNN VGG [13] 59.2 76.8 70.9 56.6 37.5 36.9 62.9 63.6 81.1 35.7 64.3 43.9 80.4 71.6 74.0 60.0 30.8 63.4 52.0 63.5 58.7\\nYOLO 57.9 77.0 67.2 57.7 38.3 22.7 68.3 55.9 81.4 36.2 60.8 48.5 77.2 72.3 71.3 63.5 28.9 52.2 54.8 73.9 50.8\\nFeature Edit [33] 56.3 74.6 69.1 54.4 39.1 33.1 65.2 62.7 69.7 30.8 56.0 44.6 70.0 64.4 71.1 60.2 33.3 61.3 46.4 61.7 57.8\\nR-CNN BB [13] 53.3 71.8 65.8 52.0 34.1 32.6 59.6 60.0 69.8 27.6 52.0 41.7 69.6 61.3 68.3 57.8 29.6 57.8 40.9 59.3 54.1\\nSDS [16] 50.7 69.7 58.4 48.5 28.3 28.8 61.3 57.5 70.8 24.1 50.7 35.9 64.9 59.1 65.8 57.1 26.0 58.8 38.6 58.9 50.7\\nR-CNN [13] 49.6 68.1 63.8 46.1 29.4 27.9 56.6 57.0 65.9 26.5 48.7 39.5 66.2 57.3 65.4 53.2 26.2 54.5 38.1 50.6 51.6\\nTable 3: PASCAL VOC 2012 Leaderboard. YOLO compared with the full comp4 (outside data allowed) public leaderboard as of\\nNovember 6th, 2015. Mean average precision and per-class average precision are shown for a variety of detection methods. YOLO is the\\nonly real-time detector. Fast R-CNN + YOLO is the forth highest scoring method, with a 2.3% boost over Fast R-CNN.\\nmAP increases by 3.2% to 75.0%. We also tried combining\\nthe top Fast R-CNN model with several other versions of\\nFast R-CNN. Those ensembles produced small increases in\\nmAP between .3 and .6%, see Table 2 for details.\\nThe boost from YOLO is not simply a byproduct of\\nmodel ensembling since there is little beneﬁt from combin-\\ning different versions of Fast R-CNN. Rather, it is precisely\\nbecause YOLO makes different kinds of mistakes at test\\ntime that it is so effective at boosting Fast R-CNN’s per-\\nformance.\\nUnfortunately, this combination doesn’t beneﬁt from the\\nspeed of YOLO since we run each model seperately and\\nthen combine the results. However, since YOLO is so fast\\nit doesn’t add any signiﬁcant computational time compared\\nto Fast R-CNN.\\n4.4. VOC 2012 Results\\nOn the VOC 2012 test set, YOLO scores 57.9% mAP.\\nThis is lower than the current state of the art, closer to\\nthe original R-CNN using VGG-16, see Table 3. Our sys-\\ntem struggles with small objects compared to its closest\\ncompetitors. On categories like bottle ,sheep , and\\ntv/monitor YOLO scores 8-10% lower than R-CNN or\\nFeature Edit. However, on other categories like cat and\\ntrain YOLO achieves higher performance.\\nOur combined Fast R-CNN + YOLO model is one of the\\nhighest performing detection methods. Fast R-CNN gets\\na 2.3% improvement from the combination with YOLO,\\nboosting it 5 spots up on the public leaderboard.\\n4.5. Generalizability: Person Detection in Artwork\\nAcademic datasets for object detection draw the training\\nand testing data from the same distribution. In real-world\\napplications it is hard to predict all possible use cases andthe test data can diverge from what the system has seen be-\\nfore [3]. We compare YOLO to other detection systems on\\nthe Picasso Dataset [12] and the People-Art Dataset [3], two\\ndatasets for testing person detection on artwork.\\nFigure 5 shows comparative performance between\\nYOLO and other detection methods. For reference, we give\\nVOC 2007 detection AP on person where all models are\\ntrained only on VOC 2007 data. On Picasso models are\\ntrained on VOC 2012 while on People-Art they are trained\\non VOC 2010.\\nR-CNN has high AP on VOC 2007. However, R-CNN\\ndrops off considerably when applied to artwork. R-CNN\\nuses Selective Search for bounding box proposals which is\\ntuned for natural images. The classiﬁer step in R-CNN only\\nsees small regions and needs good proposals.\\nDPM maintains its AP well when applied to artwork.\\nPrior work theorizes that DPM performs well because it has\\nstrong spatial models of the shape and layout of objects.\\nThough DPM doesn’t degrade as much as R-CNN, it starts\\nfrom a lower AP.\\nYOLO has good performance on VOC 2007 and its AP\\ndegrades less than other methods when applied to artwork.\\nLike DPM, YOLO models the size and shape of objects,\\nas well as relationships between objects and where objects\\ncommonly appear. Artwork and natural images are very\\ndifferent on a pixel level but they are similar in terms of\\nthe size and shape of objects, thus YOLO can still predict\\ngood bounding boxes and detections.\\n5. Real-Time Detection In The Wild\\nYOLO is a fast, accurate object detector, making it ideal\\nfor computer vision applications. We connect YOLO to a\\nwebcam and verify that it maintains real-time performance,', start_char_idx=None, end_char_idx=None, text_template='{metadata_str}\\n\\n{content}', metadata_template='{key}: {value}', metadata_seperator='\\n'),\n",
              " Document(id_='e8755fde-5679-4b5f-b388-261968f613af', embedding=None, metadata={'page_label': '8', 'file_name': 'yolo.pdf', 'file_path': '/content/data/yolo.pdf', 'file_type': 'application/pdf', 'file_size': 5296750, 'creation_date': '2024-04-06', 'last_modified_date': '2024-04-06'}, excluded_embed_metadata_keys=['file_name', 'file_type', 'file_size', 'creation_date', 'last_modified_date', 'last_accessed_date'], excluded_llm_metadata_keys=['file_name', 'file_type', 'file_size', 'creation_date', 'last_modified_date', 'last_accessed_date'], relationships={}, text='Poselets\\nRCNN\\nD&THumans\\nDPMYOLO\\n(a)Picasso Dataset precision-recall curves.VOC 2007 Picasso People-Art\\nAP AP BestF1 AP\\nYOLO 59.2 53.3 0.590 45\\nR-CNN 54.2 10.4 0.226 26\\nDPM 43.2 37.8 0.458 32\\nPoselets [2] 36.5 17.8 0.271\\nD&T [4] - 1.9 0.051\\n(b)Quantitative results on the VOC 2007, Picasso, and People-Art Datasets.\\nThe Picasso Dataset evaluates on both AP and best F1score.\\nFigure 5: Generalization results on Picasso and People-Art datasets.\\nFigure 6: Qualitative Results. YOLO running on sample artwork and natural images from the internet. It is mostly accurate although it\\ndoes think one person is an airplane.\\nincluding the time to fetch images from the camera and dis-\\nplay the detections.\\nThe resulting system is interactive and engaging. While\\nYOLO processes images individually, when attached to a\\nwebcam it functions like a tracking system, detecting ob-\\njects as they move around and change in appearance. A\\ndemo of the system and the source code can be found on\\nour project website: http://pjreddie.com/yolo/ .\\n6. Conclusion\\nWe introduce YOLO, a uniﬁed model for object detec-\\ntion. Our model is simple to construct and can be traineddirectly on full images. Unlike classiﬁer-based approaches,\\nYOLO is trained on a loss function that directly corresponds\\nto detection performance and the entire model is trained\\njointly.\\nFast YOLO is the fastest general-purpose object detec-\\ntor in the literature and YOLO pushes the state-of-the-art in\\nreal-time object detection. YOLO also generalizes well to\\nnew domains making it ideal for applications that rely on\\nfast, robust object detection.\\nAcknowledgements: This work is partially supported by\\nONR N00014-13-1-0720, NSF IIS-1338054, and The Allen\\nDistinguished Investigator Award.', start_char_idx=None, end_char_idx=None, text_template='{metadata_str}\\n\\n{content}', metadata_template='{key}: {value}', metadata_seperator='\\n'),\n",
              " Document(id_='9fd1a7e7-b216-4b57-b8e1-9891312a1dce', embedding=None, metadata={'page_label': '9', 'file_name': 'yolo.pdf', 'file_path': '/content/data/yolo.pdf', 'file_type': 'application/pdf', 'file_size': 5296750, 'creation_date': '2024-04-06', 'last_modified_date': '2024-04-06'}, excluded_embed_metadata_keys=['file_name', 'file_type', 'file_size', 'creation_date', 'last_modified_date', 'last_accessed_date'], excluded_llm_metadata_keys=['file_name', 'file_type', 'file_size', 'creation_date', 'last_modified_date', 'last_accessed_date'], relationships={}, text='References\\n[1] M. B. Blaschko and C. H. Lampert. Learning to localize ob-\\njects with structured output regression. In Computer Vision–\\nECCV 2008 , pages 2–15. Springer, 2008. 4\\n[2] L. Bourdev and J. Malik. Poselets: Body part detectors\\ntrained using 3d human pose annotations. In International\\nConference on Computer Vision (ICCV) , 2009. 8\\n[3] H. Cai, Q. Wu, T. Corradi, and P. Hall. The cross-\\ndepiction problem: Computer vision algorithms for recog-\\nnising objects in artwork and in photographs. arXiv preprint\\narXiv:1505.00110 , 2015. 7\\n[4] N. Dalal and B. Triggs. Histograms of oriented gradients for\\nhuman detection. In Computer Vision and Pattern Recogni-\\ntion, 2005. CVPR 2005. IEEE Computer Society Conference\\non, volume 1, pages 886–893. IEEE, 2005. 4, 8\\n[5] T. Dean, M. Ruzon, M. Segal, J. Shlens, S. Vijaya-\\nnarasimhan, J. Yagnik, et al. Fast, accurate detection of\\n100,000 object classes on a single machine. In Computer\\nVision and Pattern Recognition (CVPR), 2013 IEEE Confer-\\nence on , pages 1814–1821. IEEE, 2013. 5\\n[6] J. Donahue, Y . Jia, O. Vinyals, J. Hoffman, N. Zhang,\\nE. Tzeng, and T. Darrell. Decaf: A deep convolutional acti-\\nvation feature for generic visual recognition. arXiv preprint\\narXiv:1310.1531 , 2013. 4\\n[7] J. Dong, Q. Chen, S. Yan, and A. Yuille. Towards uniﬁed\\nobject detection and semantic segmentation. In Computer\\nVision–ECCV 2014 , pages 299–314. Springer, 2014. 7\\n[8] D. Erhan, C. Szegedy, A. Toshev, and D. Anguelov. Scalable\\nobject detection using deep neural networks. In Computer\\nVision and Pattern Recognition (CVPR), 2014 IEEE Confer-\\nence on , pages 2155–2162. IEEE, 2014. 5, 6\\n[9] M. Everingham, S. M. A. Eslami, L. Van Gool, C. K. I.\\nWilliams, J. Winn, and A. Zisserman. The pascal visual ob-\\nject classes challenge: A retrospective. International Journal\\nof Computer Vision , 111(1):98–136, Jan. 2015. 2\\n[10] P. F. Felzenszwalb, R. B. Girshick, D. McAllester, and D. Ra-\\nmanan. Object detection with discriminatively trained part\\nbased models. IEEE Transactions on Pattern Analysis and\\nMachine Intelligence , 32(9):1627–1645, 2010. 1, 4\\n[11] S. Gidaris and N. Komodakis. Object detection via a multi-\\nregion & semantic segmentation-aware CNN model. CoRR ,\\nabs/1505.01749, 2015. 7\\n[12] S. Ginosar, D. Haas, T. Brown, and J. Malik. Detecting peo-\\nple in cubist art. In Computer Vision-ECCV 2014 Workshops ,\\npages 101–116. Springer, 2014. 7\\n[13] R. Girshick, J. Donahue, T. Darrell, and J. Malik. Rich fea-\\nture hierarchies for accurate object detection and semantic\\nsegmentation. In Computer Vision and Pattern Recognition\\n(CVPR), 2014 IEEE Conference on , pages 580–587. IEEE,\\n2014. 1, 4, 7\\n[14] R. B. Girshick. Fast R-CNN. CoRR , abs/1504.08083, 2015.\\n2, 5, 6, 7\\n[15] S. Gould, T. Gao, and D. Koller. Region-based segmenta-\\ntion and object detection. In Advances in neural information\\nprocessing systems , pages 655–663, 2009. 4[16] B. Hariharan, P. Arbel ´aez, R. Girshick, and J. Malik. Simul-\\ntaneous detection and segmentation. In Computer Vision–\\nECCV 2014 , pages 297–312. Springer, 2014. 7\\n[17] K. He, X. Zhang, S. Ren, and J. Sun. Spatial pyramid pooling\\nin deep convolutional networks for visual recognition. arXiv\\npreprint arXiv:1406.4729 , 2014. 5\\n[18] G. E. Hinton, N. Srivastava, A. Krizhevsky, I. Sutskever, and\\nR. R. Salakhutdinov. Improving neural networks by pre-\\nventing co-adaptation of feature detectors. arXiv preprint\\narXiv:1207.0580 , 2012. 4\\n[19] D. Hoiem, Y . Chodpathumwan, and Q. Dai. Diagnosing error\\nin object detectors. In Computer Vision–ECCV 2012 , pages\\n340–353. Springer, 2012. 6\\n[20] K. Lenc and A. Vedaldi. R-cnn minus r. arXiv preprint\\narXiv:1506.06981 , 2015. 5, 6\\n[21] R. Lienhart and J. Maydt. An extended set of haar-like fea-\\ntures for rapid object detection. In Image Processing. 2002.\\nProceedings. 2002 International Conference on , volume 1,\\npages I–900. IEEE, 2002. 4\\n[22] M. Lin, Q. Chen, and S. Yan. Network in network. CoRR ,\\nabs/1312.4400, 2013. 2\\n[23] D. G. Lowe. Object recognition from local scale-invariant\\nfeatures. In Computer vision, 1999. The proceedings of the\\nseventh IEEE international conference on , volume 2, pages\\n1150–1157. Ieee, 1999. 4\\n[24] D. Mishkin. Models accuracy on imagenet 2012\\nval. https://github.com/BVLC/caffe/wiki/\\nModels-accuracy-on-ImageNet-2012-val . Ac-\\ncessed: 2015-10-2. 3\\n[25] C. P. Papageorgiou, M. Oren, and T. Poggio. A general\\nframework for object detection. In Computer vision, 1998.\\nsixth international conference on , pages 555–562. IEEE,\\n1998. 4\\n[26] J. Redmon. Darknet: Open source neural networks in c.\\nhttp://pjreddie.com/darknet/ , 2013–2016. 3\\n[27] J. Redmon and A. Angelova. Real-time grasp detection using\\nconvolutional neural networks. CoRR , abs/1412.3128, 2014.\\n5\\n[28] S. Ren, K. He, R. Girshick, and J. Sun. Faster r-cnn: To-\\nwards real-time object detection with region proposal net-\\nworks. arXiv preprint arXiv:1506.01497 , 2015. 5, 6, 7\\n[29] S. Ren, K. He, R. B. Girshick, X. Zhang, and J. Sun. Object\\ndetection networks on convolutional feature maps. CoRR ,\\nabs/1504.06066, 2015. 3, 7\\n[30] O. Russakovsky, J. Deng, H. Su, J. Krause, S. Satheesh,\\nS. Ma, Z. Huang, A. Karpathy, A. Khosla, M. Bernstein,\\nA. C. Berg, and L. Fei-Fei. ImageNet Large Scale Visual\\nRecognition Challenge. International Journal of Computer\\nVision (IJCV) , 2015. 3\\n[31] M. A. Sadeghi and D. Forsyth. 30hz object detection with\\ndpm v5. In Computer Vision–ECCV 2014 , pages 65–79.\\nSpringer, 2014. 5, 6\\n[32] P. Sermanet, D. Eigen, X. Zhang, M. Mathieu, R. Fergus,\\nand Y . LeCun. Overfeat: Integrated recognition, localiza-\\ntion and detection using convolutional networks. CoRR ,\\nabs/1312.6229, 2013. 4, 5', start_char_idx=None, end_char_idx=None, text_template='{metadata_str}\\n\\n{content}', metadata_template='{key}: {value}', metadata_seperator='\\n'),\n",
              " Document(id_='d16ca25d-0d86-418d-a932-686dffabc6a7', embedding=None, metadata={'page_label': '10', 'file_name': 'yolo.pdf', 'file_path': '/content/data/yolo.pdf', 'file_type': 'application/pdf', 'file_size': 5296750, 'creation_date': '2024-04-06', 'last_modified_date': '2024-04-06'}, excluded_embed_metadata_keys=['file_name', 'file_type', 'file_size', 'creation_date', 'last_modified_date', 'last_accessed_date'], excluded_llm_metadata_keys=['file_name', 'file_type', 'file_size', 'creation_date', 'last_modified_date', 'last_accessed_date'], relationships={}, text='[33] Z. Shen and X. Xue. Do more dropouts in pool5 feature maps\\nfor better object detection. arXiv preprint arXiv:1409.6911 ,\\n2014. 7\\n[34] C. Szegedy, W. Liu, Y . Jia, P. Sermanet, S. Reed,\\nD. Anguelov, D. Erhan, V . Vanhoucke, and A. Rabinovich.\\nGoing deeper with convolutions. CoRR , abs/1409.4842,\\n2014. 2\\n[35] J. R. Uijlings, K. E. van de Sande, T. Gevers, and A. W.\\nSmeulders. Selective search for object recognition. Inter-\\nnational journal of computer vision , 104(2):154–171, 2013.\\n4\\n[36] P. Viola and M. Jones. Robust real-time object detection.\\nInternational Journal of Computer Vision , 4:34–47, 2001. 4\\n[37] P. Viola and M. J. Jones. Robust real-time face detection.\\nInternational journal of computer vision , 57(2):137–154,\\n2004. 5\\n[38] J. Yan, Z. Lei, L. Wen, and S. Z. Li. The fastest deformable\\npart model for object detection. In Computer Vision and Pat-\\ntern Recognition (CVPR), 2014 IEEE Conference on , pages\\n2497–2504. IEEE, 2014. 5, 6\\n[39] C. L. Zitnick and P. Doll ´ar. Edge boxes: Locating object pro-\\nposals from edges. In Computer Vision–ECCV 2014 , pages\\n391–405. Springer, 2014. 4', start_char_idx=None, end_char_idx=None, text_template='{metadata_str}\\n\\n{content}', metadata_template='{key}: {value}', metadata_seperator='\\n')]"
            ]
          },
          "metadata": {},
          "execution_count": 43
        }
      ],
      "source": [
        "documents"
      ]
    },
    {
      "cell_type": "code",
      "execution_count": 44,
      "metadata": {
        "id": "VZiudQHS2Ciw",
        "outputId": "fd733806-3780-4e0d-8705-04609367ddd9",
        "colab": {
          "base_uri": "https://localhost:8080/",
          "height": 81,
          "referenced_widgets": [
            "8143d2aa397243fe997eaf36b07cffe1",
            "cc29055902a240d5a98f0246ac92d3a0",
            "4d26c4b728cd44f89984c5602a4d6c42",
            "44ff0a6c7c104c38abc6e3c0fd3872f3",
            "8f662684ed1545658684b33984691180",
            "06e55d31934f40c0849dcacec2be12ea",
            "cd1c153af6f74c08966269fb730a15ac",
            "e766aa89a05946028127ac5873df66e9",
            "af04c56c06d04f0193bef94d34765cba",
            "4b913ad2d90640d1835a0667c84eee04",
            "5672cbffd13845c194dc134bbc05c022",
            "5bb4e5e585ab4344b5496448754d90bc",
            "f7b5601d24b84c249dee28cb7a30dfe7",
            "92ac6bfc6564461b8f4201f62953f9e6",
            "0e41dabd80a8466eb3c87ff2621c989d",
            "36babf280d9d456b9d8df00c60e4592c",
            "cdbdcf03de1143c2ae81f3152ee37651",
            "7fb684c1f8c54ac88afea3c14d8cd4d3",
            "69f6837f338b4160b71d1f8dcabc17bb",
            "4c43543269384893a68c496b26b9869c",
            "66207ae5859342ce9f641cb4f0b3d99a",
            "f11a07a7cc76466281adca9d29581c29"
          ]
        }
      },
      "outputs": [
        {
          "output_type": "display_data",
          "data": {
            "text/plain": [
              "Parsing nodes:   0%|          | 0/25 [00:00<?, ?it/s]"
            ],
            "application/vnd.jupyter.widget-view+json": {
              "version_major": 2,
              "version_minor": 0,
              "model_id": "8143d2aa397243fe997eaf36b07cffe1"
            }
          },
          "metadata": {}
        },
        {
          "output_type": "display_data",
          "data": {
            "text/plain": [
              "Generating embeddings:   0%|          | 0/38 [00:00<?, ?it/s]"
            ],
            "application/vnd.jupyter.widget-view+json": {
              "version_major": 2,
              "version_minor": 0,
              "model_id": "5bb4e5e585ab4344b5496448754d90bc"
            }
          },
          "metadata": {}
        }
      ],
      "source": [
        "index=VectorStoreIndex.from_documents(documents,show_progress=True)"
      ]
    },
    {
      "cell_type": "code",
      "execution_count": 45,
      "metadata": {
        "id": "dOU9P3YY2Ciw",
        "outputId": "9dc8b454-8557-46ed-d5b4-78b6ef1a6efb",
        "colab": {
          "base_uri": "https://localhost:8080/"
        }
      },
      "outputs": [
        {
          "output_type": "execute_result",
          "data": {
            "text/plain": [
              "<llama_index.core.indices.vector_store.base.VectorStoreIndex at 0x78fec10cde70>"
            ]
          },
          "metadata": {},
          "execution_count": 45
        }
      ],
      "source": [
        "index"
      ]
    },
    {
      "cell_type": "code",
      "execution_count": 46,
      "metadata": {
        "id": "P0Z_rQGb2Cix"
      },
      "outputs": [],
      "source": [
        "query_engine=index.as_query_engine()"
      ]
    },
    {
      "cell_type": "code",
      "source": [
        "response = query_engine.query(\"What is attention is all you need?\")\n",
        "print(response)"
      ],
      "metadata": {
        "colab": {
          "base_uri": "https://localhost:8080/"
        },
        "id": "qpXd6ABW75Ed",
        "outputId": "6473c984-c1f4-4555-a96e-c876c419f533"
      },
      "execution_count": 47,
      "outputs": [
        {
          "output_type": "stream",
          "name": "stdout",
          "text": [
            "Attention is a mechanism that allows neural networks to focus on specific parts of the input when making predictions or generating outputs. It has been shown to be a crucial component in various natural language processing tasks, enabling models to weigh the importance of different words or phrases in the input sequence.\n"
          ]
        }
      ]
    },
    {
      "cell_type": "code",
      "execution_count": 18,
      "metadata": {
        "id": "hojtBAaC2Cix"
      },
      "outputs": [],
      "source": [
        "# from llama_index.retrievers import VectorIndexRetriever\n",
        "# from llama_index.query_engine import RetrieverQueryEngine\n",
        "# from llama_index.indices.postprocessor import SimilarityPostprocessor\n",
        "\n",
        "# retriever=VectorIndexRetriever(index=index,similarity_top_k=4)\n",
        "# postprocessor=SimilarityPostprocessor(similarity_cutoff=0.80)\n",
        "\n",
        "# query_engine=RetrieverQueryEngine(retriever=retriever,\n",
        "#                                   node_postprocessors=[postprocessor])\n"
      ]
    },
    {
      "cell_type": "code",
      "source": [
        "from llama_index.core.indices.vector_store.retrievers import VectorIndexRetriever\n",
        "from llama_index.core.query_engine import RetrieverQueryEngine\n",
        "from llama_index.core.postprocessor import SimilarityPostprocessor\n",
        "\n",
        "retriever=VectorIndexRetriever(index=index,similarity_top_k=4)\n",
        "postprocessor=SimilarityPostprocessor(similarity_cutoff=0.50)\n",
        "\n",
        "query_engine1=RetrieverQueryEngine(retriever=retriever,\n",
        "                                  node_postprocessors=[postprocessor])"
      ],
      "metadata": {
        "id": "thxtPZZW86fi"
      },
      "execution_count": 48,
      "outputs": []
    },
    {
      "cell_type": "code",
      "execution_count": 49,
      "metadata": {
        "id": "CttB_rT62Ciy",
        "colab": {
          "base_uri": "https://localhost:8080/"
        },
        "outputId": "4bc641df-4ce7-488a-de6e-a084ce59f323"
      },
      "outputs": [
        {
          "output_type": "stream",
          "name": "stdout",
          "text": [
            "The attention mechanism is a key component in neural network architectures, particularly in tasks like machine translation. It allows the model to focus on different parts of the input sequence dynamically during the decoding process. This helps improve the model's ability to align words correctly between the source and target languages, leading to better translation performance.\n"
          ]
        }
      ],
      "source": [
        "response1=query_engine1.query(\"What is attention is all you need?\")\n",
        "print(response1)"
      ]
    },
    {
      "cell_type": "code",
      "execution_count": 50,
      "metadata": {
        "id": "Hx_6wxgp2Ciy",
        "outputId": "f49d0212-5361-4949-c7f9-6c98ca0aff66",
        "colab": {
          "base_uri": "https://localhost:8080/"
        }
      },
      "outputs": [
        {
          "output_type": "stream",
          "name": "stdout",
          "text": [
            "Final Response: The attention mechanism is a key component in neural\n",
            "network architectures, particularly in tasks like machine translation.\n",
            "It allows the model to focus on different parts of the input sequence\n",
            "dynamically during the decoding process. This helps improve the\n",
            "model's ability to align words correctly between the source and target\n",
            "languages, leading to better translation performance.\n",
            "______________________________________________________________________\n",
            "Source Node 1/4\n",
            "Node ID: dbca88f6-657e-4cbf-86d9-63342dbac783\n",
            "Similarity: 0.757761580640294\n",
            "Text: fandqare some nonlinear functions. Sutskever et al. (2014) used\n",
            "an LSTM as fand q({h1,···,hT}) =hT, for instance. 1We mean by the\n",
            "state-of-the-art performance, the performance of the conventional\n",
            "phrase-based system without using any neural network-based component.\n",
            "2Although most of the previous works (see, e.g., Cho et al. , 2014a;\n",
            "Sutskever et...\n",
            "______________________________________________________________________\n",
            "Source Node 2/4\n",
            "Node ID: c95359e2-f9be-4c22-a797-f851cd06b350\n",
            "Similarity: 0.7500990968983553\n",
            "Text: Published as a conference paper at ICLR 2015 normalized the\n",
            "L2-norm of the gradient of the cost function each time to be at most a\n",
            "predeﬁned threshold of 1, when the norm was larger than the threshold\n",
            "(Pascanu et al. , 2013b). Each SGD update direction was computed with\n",
            "a minibatch of 80 sentences. At each update our implementation\n",
            "requires time...\n",
            "______________________________________________________________________\n",
            "Source Node 3/4\n",
            "Node ID: 14b9c278-0d17-477c-9d84-cd1ed733411b\n",
            "Similarity: 0.7456566373763687\n",
            "Text: Published as a conference paper at ICLR 2015 ACKNOWLEDGMENTS The\n",
            "authors would like to thank the developers of Theano (Bergstra et al.\n",
            ", 2010; Bastien et al. , 2012). We acknowledge the support of the\n",
            "following agencies for research funding and computing support: NSERC,\n",
            "Calcul Qu ´ebec, Compute Canada, the Canada Research Chairs and CIFAR.\n",
            "Bah- ...\n",
            "______________________________________________________________________\n",
            "Source Node 4/4\n",
            "Node ID: f1363304-bac3-488f-9059-f81358576473\n",
            "Similarity: 0.7456556221940815\n",
            "Text: Published as a conference paper at ICLR 2015 A M ODEL\n",
            "ARCHITECTURE A.1 A RCHITECTURAL CHOICES The proposed scheme in Section\n",
            "3 is a general framework where one can freely deﬁne, for instance, the\n",
            "activation functions fof recurrent neural networks (RNN) and the\n",
            "alignment model a. Here, we describe the choices we made for the\n",
            "experiments in this p...\n",
            "The attention mechanism is a key component in neural network architectures, particularly in tasks like machine translation. It allows the model to focus on different parts of the input sequence dynamically during the decoding process. This helps improve the model's ability to align words correctly between the source and target languages, leading to better translation performance.\n"
          ]
        }
      ],
      "source": [
        "from llama_index.core.response.pprint_utils import pprint_response\n",
        "pprint_response(response1, show_source=True)\n",
        "print(response1)"
      ]
    },
    {
      "cell_type": "code",
      "execution_count": 39,
      "metadata": {
        "id": "FWKzKrhu2Ciz",
        "outputId": "f161fc44-0e6c-44d9-cc97-9962e08e83b2",
        "colab": {
          "base_uri": "https://localhost:8080/"
        }
      },
      "outputs": [
        {
          "output_type": "stream",
          "name": "stdout",
          "text": [
            "Transformers are a type of neural network architecture that has gained popularity in natural language processing tasks. They differ from traditional recurrent neural networks (RNNs) and convolutional neural networks (CNNs) by relying on self-attention mechanisms to weigh the importance of different input elements when generating an output. This allows transformers to capture long-range dependencies more effectively and in parallel, making them well-suited for tasks like machine translation and text generation.\n"
          ]
        }
      ],
      "source": [
        "import os.path\n",
        "from llama_index.core import (\n",
        "    VectorStoreIndex,\n",
        "    SimpleDirectoryReader,\n",
        "    StorageContext,\n",
        "    load_index_from_storage,\n",
        ")\n",
        "\n",
        "# check if storage already exists\n",
        "PERSIST_DIR = \"./storage\"\n",
        "if not os.path.exists(PERSIST_DIR):\n",
        "    # load the documents and create the index\n",
        "    documents = SimpleDirectoryReader(\"data\").load_data()\n",
        "    index = VectorStoreIndex.from_documents(documents)\n",
        "    # store it for later\n",
        "    index.storage_context.persist(persist_dir=PERSIST_DIR)\n",
        "else:\n",
        "    # load the existing index\n",
        "    storage_context = StorageContext.from_defaults(persist_dir=PERSIST_DIR)\n",
        "    index = load_index_from_storage(storage_context)\n",
        "\n",
        "# either way we can now query the index\n",
        "query_engine2 = index.as_query_engine()\n",
        "response2 = query_engine2.query(\"What are transformers?\")\n",
        "print(response2)"
      ]
    },
    {
      "cell_type": "code",
      "execution_count": 40,
      "metadata": {
        "id": "4KRit6ut2Ciz",
        "colab": {
          "base_uri": "https://localhost:8080/"
        },
        "outputId": "d2f22f74-26aa-4a5f-83b8-64845b9a1519"
      },
      "outputs": [
        {
          "output_type": "stream",
          "name": "stdout",
          "text": [
            "A game of cricket is a sport that involves two teams with eleven players each, where one team bats while the other team bowls and fields. The batting team's goal is to score runs by hitting the ball and running between two sets of wickets, while the bowling team aims to dismiss the batsmen and restrict the runs scored.\n"
          ]
        }
      ],
      "source": [
        "response3 = query_engine2.query(\"What is a game of cricket?\")\n",
        "print(response3)"
      ]
    },
    {
      "cell_type": "code",
      "source": [],
      "metadata": {
        "id": "kqrkYZec_eLd"
      },
      "execution_count": null,
      "outputs": []
    }
  ],
  "metadata": {
    "kernelspec": {
      "display_name": "Python 3",
      "name": "python3"
    },
    "language_info": {
      "codemirror_mode": {
        "name": "ipython",
        "version": 3
      },
      "file_extension": ".py",
      "mimetype": "text/x-python",
      "name": "python",
      "nbconvert_exporter": "python",
      "pygments_lexer": "ipython3",
      "version": "3.10.0"
    },
    "colab": {
      "provenance": [],
      "machine_shape": "hm",
      "gpuType": "A100"
    },
    "accelerator": "GPU",
    "widgets": {
      "application/vnd.jupyter.widget-state+json": {
        "8143d2aa397243fe997eaf36b07cffe1": {
          "model_module": "@jupyter-widgets/controls",
          "model_name": "HBoxModel",
          "model_module_version": "1.5.0",
          "state": {
            "_dom_classes": [],
            "_model_module": "@jupyter-widgets/controls",
            "_model_module_version": "1.5.0",
            "_model_name": "HBoxModel",
            "_view_count": null,
            "_view_module": "@jupyter-widgets/controls",
            "_view_module_version": "1.5.0",
            "_view_name": "HBoxView",
            "box_style": "",
            "children": [
              "IPY_MODEL_cc29055902a240d5a98f0246ac92d3a0",
              "IPY_MODEL_4d26c4b728cd44f89984c5602a4d6c42",
              "IPY_MODEL_44ff0a6c7c104c38abc6e3c0fd3872f3"
            ],
            "layout": "IPY_MODEL_8f662684ed1545658684b33984691180"
          }
        },
        "cc29055902a240d5a98f0246ac92d3a0": {
          "model_module": "@jupyter-widgets/controls",
          "model_name": "HTMLModel",
          "model_module_version": "1.5.0",
          "state": {
            "_dom_classes": [],
            "_model_module": "@jupyter-widgets/controls",
            "_model_module_version": "1.5.0",
            "_model_name": "HTMLModel",
            "_view_count": null,
            "_view_module": "@jupyter-widgets/controls",
            "_view_module_version": "1.5.0",
            "_view_name": "HTMLView",
            "description": "",
            "description_tooltip": null,
            "layout": "IPY_MODEL_06e55d31934f40c0849dcacec2be12ea",
            "placeholder": "​",
            "style": "IPY_MODEL_cd1c153af6f74c08966269fb730a15ac",
            "value": "Parsing nodes: 100%"
          }
        },
        "4d26c4b728cd44f89984c5602a4d6c42": {
          "model_module": "@jupyter-widgets/controls",
          "model_name": "FloatProgressModel",
          "model_module_version": "1.5.0",
          "state": {
            "_dom_classes": [],
            "_model_module": "@jupyter-widgets/controls",
            "_model_module_version": "1.5.0",
            "_model_name": "FloatProgressModel",
            "_view_count": null,
            "_view_module": "@jupyter-widgets/controls",
            "_view_module_version": "1.5.0",
            "_view_name": "ProgressView",
            "bar_style": "success",
            "description": "",
            "description_tooltip": null,
            "layout": "IPY_MODEL_e766aa89a05946028127ac5873df66e9",
            "max": 25,
            "min": 0,
            "orientation": "horizontal",
            "style": "IPY_MODEL_af04c56c06d04f0193bef94d34765cba",
            "value": 25
          }
        },
        "44ff0a6c7c104c38abc6e3c0fd3872f3": {
          "model_module": "@jupyter-widgets/controls",
          "model_name": "HTMLModel",
          "model_module_version": "1.5.0",
          "state": {
            "_dom_classes": [],
            "_model_module": "@jupyter-widgets/controls",
            "_model_module_version": "1.5.0",
            "_model_name": "HTMLModel",
            "_view_count": null,
            "_view_module": "@jupyter-widgets/controls",
            "_view_module_version": "1.5.0",
            "_view_name": "HTMLView",
            "description": "",
            "description_tooltip": null,
            "layout": "IPY_MODEL_4b913ad2d90640d1835a0667c84eee04",
            "placeholder": "​",
            "style": "IPY_MODEL_5672cbffd13845c194dc134bbc05c022",
            "value": " 25/25 [00:00&lt;00:00, 264.67it/s]"
          }
        },
        "8f662684ed1545658684b33984691180": {
          "model_module": "@jupyter-widgets/base",
          "model_name": "LayoutModel",
          "model_module_version": "1.2.0",
          "state": {
            "_model_module": "@jupyter-widgets/base",
            "_model_module_version": "1.2.0",
            "_model_name": "LayoutModel",
            "_view_count": null,
            "_view_module": "@jupyter-widgets/base",
            "_view_module_version": "1.2.0",
            "_view_name": "LayoutView",
            "align_content": null,
            "align_items": null,
            "align_self": null,
            "border": null,
            "bottom": null,
            "display": null,
            "flex": null,
            "flex_flow": null,
            "grid_area": null,
            "grid_auto_columns": null,
            "grid_auto_flow": null,
            "grid_auto_rows": null,
            "grid_column": null,
            "grid_gap": null,
            "grid_row": null,
            "grid_template_areas": null,
            "grid_template_columns": null,
            "grid_template_rows": null,
            "height": null,
            "justify_content": null,
            "justify_items": null,
            "left": null,
            "margin": null,
            "max_height": null,
            "max_width": null,
            "min_height": null,
            "min_width": null,
            "object_fit": null,
            "object_position": null,
            "order": null,
            "overflow": null,
            "overflow_x": null,
            "overflow_y": null,
            "padding": null,
            "right": null,
            "top": null,
            "visibility": null,
            "width": null
          }
        },
        "06e55d31934f40c0849dcacec2be12ea": {
          "model_module": "@jupyter-widgets/base",
          "model_name": "LayoutModel",
          "model_module_version": "1.2.0",
          "state": {
            "_model_module": "@jupyter-widgets/base",
            "_model_module_version": "1.2.0",
            "_model_name": "LayoutModel",
            "_view_count": null,
            "_view_module": "@jupyter-widgets/base",
            "_view_module_version": "1.2.0",
            "_view_name": "LayoutView",
            "align_content": null,
            "align_items": null,
            "align_self": null,
            "border": null,
            "bottom": null,
            "display": null,
            "flex": null,
            "flex_flow": null,
            "grid_area": null,
            "grid_auto_columns": null,
            "grid_auto_flow": null,
            "grid_auto_rows": null,
            "grid_column": null,
            "grid_gap": null,
            "grid_row": null,
            "grid_template_areas": null,
            "grid_template_columns": null,
            "grid_template_rows": null,
            "height": null,
            "justify_content": null,
            "justify_items": null,
            "left": null,
            "margin": null,
            "max_height": null,
            "max_width": null,
            "min_height": null,
            "min_width": null,
            "object_fit": null,
            "object_position": null,
            "order": null,
            "overflow": null,
            "overflow_x": null,
            "overflow_y": null,
            "padding": null,
            "right": null,
            "top": null,
            "visibility": null,
            "width": null
          }
        },
        "cd1c153af6f74c08966269fb730a15ac": {
          "model_module": "@jupyter-widgets/controls",
          "model_name": "DescriptionStyleModel",
          "model_module_version": "1.5.0",
          "state": {
            "_model_module": "@jupyter-widgets/controls",
            "_model_module_version": "1.5.0",
            "_model_name": "DescriptionStyleModel",
            "_view_count": null,
            "_view_module": "@jupyter-widgets/base",
            "_view_module_version": "1.2.0",
            "_view_name": "StyleView",
            "description_width": ""
          }
        },
        "e766aa89a05946028127ac5873df66e9": {
          "model_module": "@jupyter-widgets/base",
          "model_name": "LayoutModel",
          "model_module_version": "1.2.0",
          "state": {
            "_model_module": "@jupyter-widgets/base",
            "_model_module_version": "1.2.0",
            "_model_name": "LayoutModel",
            "_view_count": null,
            "_view_module": "@jupyter-widgets/base",
            "_view_module_version": "1.2.0",
            "_view_name": "LayoutView",
            "align_content": null,
            "align_items": null,
            "align_self": null,
            "border": null,
            "bottom": null,
            "display": null,
            "flex": null,
            "flex_flow": null,
            "grid_area": null,
            "grid_auto_columns": null,
            "grid_auto_flow": null,
            "grid_auto_rows": null,
            "grid_column": null,
            "grid_gap": null,
            "grid_row": null,
            "grid_template_areas": null,
            "grid_template_columns": null,
            "grid_template_rows": null,
            "height": null,
            "justify_content": null,
            "justify_items": null,
            "left": null,
            "margin": null,
            "max_height": null,
            "max_width": null,
            "min_height": null,
            "min_width": null,
            "object_fit": null,
            "object_position": null,
            "order": null,
            "overflow": null,
            "overflow_x": null,
            "overflow_y": null,
            "padding": null,
            "right": null,
            "top": null,
            "visibility": null,
            "width": null
          }
        },
        "af04c56c06d04f0193bef94d34765cba": {
          "model_module": "@jupyter-widgets/controls",
          "model_name": "ProgressStyleModel",
          "model_module_version": "1.5.0",
          "state": {
            "_model_module": "@jupyter-widgets/controls",
            "_model_module_version": "1.5.0",
            "_model_name": "ProgressStyleModel",
            "_view_count": null,
            "_view_module": "@jupyter-widgets/base",
            "_view_module_version": "1.2.0",
            "_view_name": "StyleView",
            "bar_color": null,
            "description_width": ""
          }
        },
        "4b913ad2d90640d1835a0667c84eee04": {
          "model_module": "@jupyter-widgets/base",
          "model_name": "LayoutModel",
          "model_module_version": "1.2.0",
          "state": {
            "_model_module": "@jupyter-widgets/base",
            "_model_module_version": "1.2.0",
            "_model_name": "LayoutModel",
            "_view_count": null,
            "_view_module": "@jupyter-widgets/base",
            "_view_module_version": "1.2.0",
            "_view_name": "LayoutView",
            "align_content": null,
            "align_items": null,
            "align_self": null,
            "border": null,
            "bottom": null,
            "display": null,
            "flex": null,
            "flex_flow": null,
            "grid_area": null,
            "grid_auto_columns": null,
            "grid_auto_flow": null,
            "grid_auto_rows": null,
            "grid_column": null,
            "grid_gap": null,
            "grid_row": null,
            "grid_template_areas": null,
            "grid_template_columns": null,
            "grid_template_rows": null,
            "height": null,
            "justify_content": null,
            "justify_items": null,
            "left": null,
            "margin": null,
            "max_height": null,
            "max_width": null,
            "min_height": null,
            "min_width": null,
            "object_fit": null,
            "object_position": null,
            "order": null,
            "overflow": null,
            "overflow_x": null,
            "overflow_y": null,
            "padding": null,
            "right": null,
            "top": null,
            "visibility": null,
            "width": null
          }
        },
        "5672cbffd13845c194dc134bbc05c022": {
          "model_module": "@jupyter-widgets/controls",
          "model_name": "DescriptionStyleModel",
          "model_module_version": "1.5.0",
          "state": {
            "_model_module": "@jupyter-widgets/controls",
            "_model_module_version": "1.5.0",
            "_model_name": "DescriptionStyleModel",
            "_view_count": null,
            "_view_module": "@jupyter-widgets/base",
            "_view_module_version": "1.2.0",
            "_view_name": "StyleView",
            "description_width": ""
          }
        },
        "5bb4e5e585ab4344b5496448754d90bc": {
          "model_module": "@jupyter-widgets/controls",
          "model_name": "HBoxModel",
          "model_module_version": "1.5.0",
          "state": {
            "_dom_classes": [],
            "_model_module": "@jupyter-widgets/controls",
            "_model_module_version": "1.5.0",
            "_model_name": "HBoxModel",
            "_view_count": null,
            "_view_module": "@jupyter-widgets/controls",
            "_view_module_version": "1.5.0",
            "_view_name": "HBoxView",
            "box_style": "",
            "children": [
              "IPY_MODEL_f7b5601d24b84c249dee28cb7a30dfe7",
              "IPY_MODEL_92ac6bfc6564461b8f4201f62953f9e6",
              "IPY_MODEL_0e41dabd80a8466eb3c87ff2621c989d"
            ],
            "layout": "IPY_MODEL_36babf280d9d456b9d8df00c60e4592c"
          }
        },
        "f7b5601d24b84c249dee28cb7a30dfe7": {
          "model_module": "@jupyter-widgets/controls",
          "model_name": "HTMLModel",
          "model_module_version": "1.5.0",
          "state": {
            "_dom_classes": [],
            "_model_module": "@jupyter-widgets/controls",
            "_model_module_version": "1.5.0",
            "_model_name": "HTMLModel",
            "_view_count": null,
            "_view_module": "@jupyter-widgets/controls",
            "_view_module_version": "1.5.0",
            "_view_name": "HTMLView",
            "description": "",
            "description_tooltip": null,
            "layout": "IPY_MODEL_cdbdcf03de1143c2ae81f3152ee37651",
            "placeholder": "​",
            "style": "IPY_MODEL_7fb684c1f8c54ac88afea3c14d8cd4d3",
            "value": "Generating embeddings: 100%"
          }
        },
        "92ac6bfc6564461b8f4201f62953f9e6": {
          "model_module": "@jupyter-widgets/controls",
          "model_name": "FloatProgressModel",
          "model_module_version": "1.5.0",
          "state": {
            "_dom_classes": [],
            "_model_module": "@jupyter-widgets/controls",
            "_model_module_version": "1.5.0",
            "_model_name": "FloatProgressModel",
            "_view_count": null,
            "_view_module": "@jupyter-widgets/controls",
            "_view_module_version": "1.5.0",
            "_view_name": "ProgressView",
            "bar_style": "success",
            "description": "",
            "description_tooltip": null,
            "layout": "IPY_MODEL_69f6837f338b4160b71d1f8dcabc17bb",
            "max": 38,
            "min": 0,
            "orientation": "horizontal",
            "style": "IPY_MODEL_4c43543269384893a68c496b26b9869c",
            "value": 38
          }
        },
        "0e41dabd80a8466eb3c87ff2621c989d": {
          "model_module": "@jupyter-widgets/controls",
          "model_name": "HTMLModel",
          "model_module_version": "1.5.0",
          "state": {
            "_dom_classes": [],
            "_model_module": "@jupyter-widgets/controls",
            "_model_module_version": "1.5.0",
            "_model_name": "HTMLModel",
            "_view_count": null,
            "_view_module": "@jupyter-widgets/controls",
            "_view_module_version": "1.5.0",
            "_view_name": "HTMLView",
            "description": "",
            "description_tooltip": null,
            "layout": "IPY_MODEL_66207ae5859342ce9f641cb4f0b3d99a",
            "placeholder": "​",
            "style": "IPY_MODEL_f11a07a7cc76466281adca9d29581c29",
            "value": " 38/38 [00:01&lt;00:00, 21.32it/s]"
          }
        },
        "36babf280d9d456b9d8df00c60e4592c": {
          "model_module": "@jupyter-widgets/base",
          "model_name": "LayoutModel",
          "model_module_version": "1.2.0",
          "state": {
            "_model_module": "@jupyter-widgets/base",
            "_model_module_version": "1.2.0",
            "_model_name": "LayoutModel",
            "_view_count": null,
            "_view_module": "@jupyter-widgets/base",
            "_view_module_version": "1.2.0",
            "_view_name": "LayoutView",
            "align_content": null,
            "align_items": null,
            "align_self": null,
            "border": null,
            "bottom": null,
            "display": null,
            "flex": null,
            "flex_flow": null,
            "grid_area": null,
            "grid_auto_columns": null,
            "grid_auto_flow": null,
            "grid_auto_rows": null,
            "grid_column": null,
            "grid_gap": null,
            "grid_row": null,
            "grid_template_areas": null,
            "grid_template_columns": null,
            "grid_template_rows": null,
            "height": null,
            "justify_content": null,
            "justify_items": null,
            "left": null,
            "margin": null,
            "max_height": null,
            "max_width": null,
            "min_height": null,
            "min_width": null,
            "object_fit": null,
            "object_position": null,
            "order": null,
            "overflow": null,
            "overflow_x": null,
            "overflow_y": null,
            "padding": null,
            "right": null,
            "top": null,
            "visibility": null,
            "width": null
          }
        },
        "cdbdcf03de1143c2ae81f3152ee37651": {
          "model_module": "@jupyter-widgets/base",
          "model_name": "LayoutModel",
          "model_module_version": "1.2.0",
          "state": {
            "_model_module": "@jupyter-widgets/base",
            "_model_module_version": "1.2.0",
            "_model_name": "LayoutModel",
            "_view_count": null,
            "_view_module": "@jupyter-widgets/base",
            "_view_module_version": "1.2.0",
            "_view_name": "LayoutView",
            "align_content": null,
            "align_items": null,
            "align_self": null,
            "border": null,
            "bottom": null,
            "display": null,
            "flex": null,
            "flex_flow": null,
            "grid_area": null,
            "grid_auto_columns": null,
            "grid_auto_flow": null,
            "grid_auto_rows": null,
            "grid_column": null,
            "grid_gap": null,
            "grid_row": null,
            "grid_template_areas": null,
            "grid_template_columns": null,
            "grid_template_rows": null,
            "height": null,
            "justify_content": null,
            "justify_items": null,
            "left": null,
            "margin": null,
            "max_height": null,
            "max_width": null,
            "min_height": null,
            "min_width": null,
            "object_fit": null,
            "object_position": null,
            "order": null,
            "overflow": null,
            "overflow_x": null,
            "overflow_y": null,
            "padding": null,
            "right": null,
            "top": null,
            "visibility": null,
            "width": null
          }
        },
        "7fb684c1f8c54ac88afea3c14d8cd4d3": {
          "model_module": "@jupyter-widgets/controls",
          "model_name": "DescriptionStyleModel",
          "model_module_version": "1.5.0",
          "state": {
            "_model_module": "@jupyter-widgets/controls",
            "_model_module_version": "1.5.0",
            "_model_name": "DescriptionStyleModel",
            "_view_count": null,
            "_view_module": "@jupyter-widgets/base",
            "_view_module_version": "1.2.0",
            "_view_name": "StyleView",
            "description_width": ""
          }
        },
        "69f6837f338b4160b71d1f8dcabc17bb": {
          "model_module": "@jupyter-widgets/base",
          "model_name": "LayoutModel",
          "model_module_version": "1.2.0",
          "state": {
            "_model_module": "@jupyter-widgets/base",
            "_model_module_version": "1.2.0",
            "_model_name": "LayoutModel",
            "_view_count": null,
            "_view_module": "@jupyter-widgets/base",
            "_view_module_version": "1.2.0",
            "_view_name": "LayoutView",
            "align_content": null,
            "align_items": null,
            "align_self": null,
            "border": null,
            "bottom": null,
            "display": null,
            "flex": null,
            "flex_flow": null,
            "grid_area": null,
            "grid_auto_columns": null,
            "grid_auto_flow": null,
            "grid_auto_rows": null,
            "grid_column": null,
            "grid_gap": null,
            "grid_row": null,
            "grid_template_areas": null,
            "grid_template_columns": null,
            "grid_template_rows": null,
            "height": null,
            "justify_content": null,
            "justify_items": null,
            "left": null,
            "margin": null,
            "max_height": null,
            "max_width": null,
            "min_height": null,
            "min_width": null,
            "object_fit": null,
            "object_position": null,
            "order": null,
            "overflow": null,
            "overflow_x": null,
            "overflow_y": null,
            "padding": null,
            "right": null,
            "top": null,
            "visibility": null,
            "width": null
          }
        },
        "4c43543269384893a68c496b26b9869c": {
          "model_module": "@jupyter-widgets/controls",
          "model_name": "ProgressStyleModel",
          "model_module_version": "1.5.0",
          "state": {
            "_model_module": "@jupyter-widgets/controls",
            "_model_module_version": "1.5.0",
            "_model_name": "ProgressStyleModel",
            "_view_count": null,
            "_view_module": "@jupyter-widgets/base",
            "_view_module_version": "1.2.0",
            "_view_name": "StyleView",
            "bar_color": null,
            "description_width": ""
          }
        },
        "66207ae5859342ce9f641cb4f0b3d99a": {
          "model_module": "@jupyter-widgets/base",
          "model_name": "LayoutModel",
          "model_module_version": "1.2.0",
          "state": {
            "_model_module": "@jupyter-widgets/base",
            "_model_module_version": "1.2.0",
            "_model_name": "LayoutModel",
            "_view_count": null,
            "_view_module": "@jupyter-widgets/base",
            "_view_module_version": "1.2.0",
            "_view_name": "LayoutView",
            "align_content": null,
            "align_items": null,
            "align_self": null,
            "border": null,
            "bottom": null,
            "display": null,
            "flex": null,
            "flex_flow": null,
            "grid_area": null,
            "grid_auto_columns": null,
            "grid_auto_flow": null,
            "grid_auto_rows": null,
            "grid_column": null,
            "grid_gap": null,
            "grid_row": null,
            "grid_template_areas": null,
            "grid_template_columns": null,
            "grid_template_rows": null,
            "height": null,
            "justify_content": null,
            "justify_items": null,
            "left": null,
            "margin": null,
            "max_height": null,
            "max_width": null,
            "min_height": null,
            "min_width": null,
            "object_fit": null,
            "object_position": null,
            "order": null,
            "overflow": null,
            "overflow_x": null,
            "overflow_y": null,
            "padding": null,
            "right": null,
            "top": null,
            "visibility": null,
            "width": null
          }
        },
        "f11a07a7cc76466281adca9d29581c29": {
          "model_module": "@jupyter-widgets/controls",
          "model_name": "DescriptionStyleModel",
          "model_module_version": "1.5.0",
          "state": {
            "_model_module": "@jupyter-widgets/controls",
            "_model_module_version": "1.5.0",
            "_model_name": "DescriptionStyleModel",
            "_view_count": null,
            "_view_module": "@jupyter-widgets/base",
            "_view_module_version": "1.2.0",
            "_view_name": "StyleView",
            "description_width": ""
          }
        }
      }
    }
  },
  "nbformat": 4,
  "nbformat_minor": 0
}